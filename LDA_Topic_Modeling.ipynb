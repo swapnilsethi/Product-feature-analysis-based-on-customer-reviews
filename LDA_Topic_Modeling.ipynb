{
 "cells": [
  {
   "cell_type": "markdown",
   "metadata": {
    "id": "682zpKillwbQ"
   },
   "source": [
    "#### What is Topic Modeling?\n",
    "\n",
    "As the name suggests, it is a process to automatically identify topics present in a text object and to derive hidden patterns exhibited by a text corpus. Thus, assisting better decision making.\n",
    "\n",
    "#### How it is different from rule-based text mining approch?\n",
    "\n",
    "Rule based apprch use regular expressions or dictionary based keyword searching techniques where as Topic Modeling is an unsupervised approach used for finding and observing the bunch of words (called “topics”) in large clusters of texts.\n",
    "\n",
    "#### 3 common technique of Topic Modeling\n",
    "\n",
    "\n",
    "*   Latent Semantic Analysis (LSA)\n",
    "*   Probabilistic Latent Semantic Analysis (pLSA)\n",
    "*   Latent Dirichlet Allocation (LDA)\n",
    "\n",
    "\n",
    "\n"
   ]
  },
  {
   "cell_type": "markdown",
   "metadata": {
    "id": "A17Teo8doYZt"
   },
   "source": [
    "### LDA"
   ]
  },
  {
   "cell_type": "code",
   "execution_count": 2,
   "metadata": {
    "colab": {
     "base_uri": "https://localhost:8080/"
    },
    "id": "LaRGFqjlq8Tc",
    "outputId": "da6def85-3efc-459b-c72e-44126e95436a"
   },
   "outputs": [
    {
     "name": "stdout",
     "output_type": "stream",
     "text": [
      "Collecting pyLDAvis\n",
      "  Downloading pyLDAvis-3.3.1.tar.gz (1.7 MB)\n",
      "\u001b[K     |████████████████████████████████| 1.7 MB 2.2 MB/s eta 0:00:01\n",
      "\u001b[?25h  Installing build dependencies ... \u001b[?25ldone\n",
      "\u001b[?25h  Getting requirements to build wheel ... \u001b[?25ldone\n",
      "\u001b[?25h  Installing backend dependencies ... \u001b[?25ldone\n",
      "\u001b[?25h    Preparing wheel metadata ... \u001b[?25ldone\n",
      "\u001b[?25hRequirement already satisfied: jinja2 in /Users/swapnilkailassethi/opt/anaconda3/lib/python3.9/site-packages (from pyLDAvis) (2.11.3)\n",
      "Collecting funcy\n",
      "  Downloading funcy-1.17-py2.py3-none-any.whl (33 kB)\n",
      "Collecting gensim\n",
      "  Downloading gensim-4.1.2-cp39-cp39-macosx_10_9_x86_64.whl (24.0 MB)\n",
      "\u001b[K     |████████████████████████████████| 24.0 MB 15.0 MB/s eta 0:00:01\n",
      "\u001b[?25hRequirement already satisfied: scipy in /Users/swapnilkailassethi/opt/anaconda3/lib/python3.9/site-packages (from pyLDAvis) (1.7.1)\n",
      "Requirement already satisfied: setuptools in /Users/swapnilkailassethi/opt/anaconda3/lib/python3.9/site-packages (from pyLDAvis) (58.0.4)\n",
      "Requirement already satisfied: numexpr in /Users/swapnilkailassethi/opt/anaconda3/lib/python3.9/site-packages (from pyLDAvis) (2.7.3)\n",
      "Requirement already satisfied: pandas>=1.2.0 in /Users/swapnilkailassethi/opt/anaconda3/lib/python3.9/site-packages (from pyLDAvis) (1.3.4)\n",
      "Requirement already satisfied: numpy>=1.20.0 in /Users/swapnilkailassethi/opt/anaconda3/lib/python3.9/site-packages (from pyLDAvis) (1.20.3)\n",
      "Requirement already satisfied: joblib in /Users/swapnilkailassethi/opt/anaconda3/lib/python3.9/site-packages (from pyLDAvis) (1.1.0)\n",
      "Requirement already satisfied: sklearn in /Users/swapnilkailassethi/opt/anaconda3/lib/python3.9/site-packages (from pyLDAvis) (0.0)\n",
      "Requirement already satisfied: scikit-learn in /Users/swapnilkailassethi/opt/anaconda3/lib/python3.9/site-packages (from pyLDAvis) (0.24.2)\n",
      "Requirement already satisfied: future in /Users/swapnilkailassethi/opt/anaconda3/lib/python3.9/site-packages (from pyLDAvis) (0.18.2)\n",
      "Requirement already satisfied: python-dateutil>=2.7.3 in /Users/swapnilkailassethi/opt/anaconda3/lib/python3.9/site-packages (from pandas>=1.2.0->pyLDAvis) (2.8.2)\n",
      "Requirement already satisfied: pytz>=2017.3 in /Users/swapnilkailassethi/opt/anaconda3/lib/python3.9/site-packages (from pandas>=1.2.0->pyLDAvis) (2021.3)\n",
      "Requirement already satisfied: six>=1.5 in /Users/swapnilkailassethi/opt/anaconda3/lib/python3.9/site-packages (from python-dateutil>=2.7.3->pandas>=1.2.0->pyLDAvis) (1.16.0)\n",
      "Collecting smart-open>=1.8.1\n",
      "  Downloading smart_open-5.2.1-py3-none-any.whl (58 kB)\n",
      "\u001b[K     |████████████████████████████████| 58 kB 40.7 MB/s eta 0:00:01\n",
      "\u001b[?25hRequirement already satisfied: MarkupSafe>=0.23 in /Users/swapnilkailassethi/opt/anaconda3/lib/python3.9/site-packages (from jinja2->pyLDAvis) (1.1.1)\n",
      "Requirement already satisfied: threadpoolctl>=2.0.0 in /Users/swapnilkailassethi/opt/anaconda3/lib/python3.9/site-packages (from scikit-learn->pyLDAvis) (2.2.0)\n",
      "Building wheels for collected packages: pyLDAvis\n",
      "  Building wheel for pyLDAvis (PEP 517) ... \u001b[?25ldone\n",
      "\u001b[?25h  Created wheel for pyLDAvis: filename=pyLDAvis-3.3.1-py2.py3-none-any.whl size=136900 sha256=18277c0f95a5c35f4c13da0cfa612dbe7e3943503ad656cbbde9c2df68efd0bf\n",
      "  Stored in directory: /Users/swapnilkailassethi/Library/Caches/pip/wheels/57/a4/86/d10c6c2e0bf149fbc0afb0aa5a6528ac35b30a133a0270c477\n",
      "Successfully built pyLDAvis\n",
      "Installing collected packages: smart-open, gensim, funcy, pyLDAvis\n",
      "Successfully installed funcy-1.17 gensim-4.1.2 pyLDAvis-3.3.1 smart-open-5.2.1\n",
      "\u001b[31mERROR: Could not find a version that satisfies the requirement pyLDAvis.gensim (from versions: none)\u001b[0m\n",
      "\u001b[31mERROR: No matching distribution found for pyLDAvis.gensim\u001b[0m\n",
      "Collecting django-model-utils\n",
      "  Downloading django_model_utils-4.2.0-py3-none-any.whl (33 kB)\n",
      "Collecting Django>=2.0.1\n",
      "  Downloading Django-4.0.4-py3-none-any.whl (8.0 MB)\n",
      "\u001b[K     |████████████████████████████████| 8.0 MB 1.4 MB/s eta 0:00:01\n",
      "\u001b[?25hCollecting sqlparse>=0.2.2\n",
      "  Downloading sqlparse-0.4.2-py3-none-any.whl (42 kB)\n",
      "\u001b[K     |████████████████████████████████| 42 kB 9.4 MB/s  eta 0:00:01\n",
      "\u001b[?25hCollecting asgiref<4,>=3.4.1\n",
      "  Downloading asgiref-3.5.0-py3-none-any.whl (22 kB)\n",
      "Installing collected packages: sqlparse, asgiref, Django, django-model-utils\n",
      "Successfully installed Django-4.0.4 asgiref-3.5.0 django-model-utils-4.2.0 sqlparse-0.4.2\n"
     ]
    }
   ],
   "source": [
    "!pip install pyLDAvis\n",
    "!pip install pyLDAvis.gensim\n",
    "!pip install django-model-utils"
   ]
  },
  {
   "cell_type": "code",
   "execution_count": 5,
   "metadata": {
    "id": "zwFnx3XMnkPj"
   },
   "outputs": [],
   "source": [
    "import pandas as pd\n",
    "import numpy as np\n",
    "from pprint import pprint\n",
    "# Gensim\n",
    "import gensim\n",
    "import gensim.corpora as corpora\n",
    "from gensim.utils import simple_preprocess\n",
    "from gensim.models import CoherenceModel\n",
    "\n",
    "# Plotting tools\n",
    "import pyLDAvis\n",
    "import pyLDAvis.gensim_models as gensimvis\n",
    "#from model_utils import qc_dict, out_topics_docs, check_topic_doc_prob, topn_docs_by_topic\n",
    "#import pyLDAvis.gensim  # don't skip this\n",
    "import matplotlib.pyplot as plt\n",
    "%matplotlib inline\n",
    "\n",
    "# Enable logging for gensim - optional\n",
    "import logging\n",
    "logging.basicConfig(format='%(asctime)s : %(levelname)s : %(message)s', level=logging.ERROR)\n",
    "\n",
    "import warnings\n",
    "warnings.filterwarnings(\"ignore\",category=DeprecationWarning)"
   ]
  },
  {
   "cell_type": "code",
   "execution_count": 22,
   "metadata": {
    "id": "IGpSvoOGlrsS"
   },
   "outputs": [],
   "source": [
    "df =pd.read_csv('TV Ceiling & Wall Mounts_processed.csv')"
   ]
  },
  {
   "cell_type": "markdown",
   "metadata": {
    "id": "xaZenitWlq8E"
   },
   "source": []
  },
  {
   "cell_type": "code",
   "execution_count": 23,
   "metadata": {
    "id": "XPu4nuZYlly5"
   },
   "outputs": [
    {
     "data": {
      "text/html": [
       "<div>\n",
       "<style scoped>\n",
       "    .dataframe tbody tr th:only-of-type {\n",
       "        vertical-align: middle;\n",
       "    }\n",
       "\n",
       "    .dataframe tbody tr th {\n",
       "        vertical-align: top;\n",
       "    }\n",
       "\n",
       "    .dataframe thead th {\n",
       "        text-align: right;\n",
       "    }\n",
       "</style>\n",
       "<table border=\"1\" class=\"dataframe\">\n",
       "  <thead>\n",
       "    <tr style=\"text-align: right;\">\n",
       "      <th></th>\n",
       "      <th>asin</th>\n",
       "      <th>reviewText</th>\n",
       "      <th>overall</th>\n",
       "      <th>summary</th>\n",
       "      <th>title</th>\n",
       "      <th>review_no_html</th>\n",
       "      <th>review_no_contraction</th>\n",
       "      <th>review_no_punc</th>\n",
       "      <th>review_no_stopwords</th>\n",
       "      <th>review_lemmatized</th>\n",
       "    </tr>\n",
       "  </thead>\n",
       "  <tbody>\n",
       "    <tr>\n",
       "      <th>0</th>\n",
       "      <td>972683275</td>\n",
       "      <td>This is a great buy, compared to a $60 or more...</td>\n",
       "      <td>5</td>\n",
       "      <td>Excelant mount for Tv. Would buy more if I nee...</td>\n",
       "      <td>VideoSecu 24&amp;quot; Long Arm TV Wall Mount Low ...</td>\n",
       "      <td>This is a great buy, compared to a $60 or more...</td>\n",
       "      <td>This is a great buy, compared to a $60 or more...</td>\n",
       "      <td>This is a great buy compared to a 60 or more a...</td>\n",
       "      <td>great buy compared 60 retail store</td>\n",
       "      <td>great buy compare  retail store</td>\n",
       "    </tr>\n",
       "    <tr>\n",
       "      <th>1</th>\n",
       "      <td>972683275</td>\n",
       "      <td>This mount is just what I needed.  It is stron...</td>\n",
       "      <td>5</td>\n",
       "      <td>Perfect</td>\n",
       "      <td>VideoSecu 24&amp;quot; Long Arm TV Wall Mount Low ...</td>\n",
       "      <td>This mount is just what I needed.  It is stron...</td>\n",
       "      <td>This mount is just what I needed.  It is stron...</td>\n",
       "      <td>This mount is just what I needed  It is strong...</td>\n",
       "      <td>needed strong sturdy folds almost flat enable ...</td>\n",
       "      <td>need strong sturdy fold almost flat enable tel...</td>\n",
       "    </tr>\n",
       "    <tr>\n",
       "      <th>2</th>\n",
       "      <td>972683275</td>\n",
       "      <td>Great deal, easy to mount and it appears to be...</td>\n",
       "      <td>5</td>\n",
       "      <td>32 In TV Mount</td>\n",
       "      <td>VideoSecu 24&amp;quot; Long Arm TV Wall Mount Low ...</td>\n",
       "      <td>Great deal, easy to mount and it appears to be...</td>\n",
       "      <td>Great deal, easy to mount and it appears to be...</td>\n",
       "      <td>Great deal easy to mount and it appears to be ...</td>\n",
       "      <td>great deal easy appears fairly sturdy mounted ...</td>\n",
       "      <td>great deal easy appear fairly sturdy  work great</td>\n",
       "    </tr>\n",
       "    <tr>\n",
       "      <th>3</th>\n",
       "      <td>972683275</td>\n",
       "      <td>This mount works really well once you get it u...</td>\n",
       "      <td>4</td>\n",
       "      <td>Pretty simple, but definitely good!</td>\n",
       "      <td>VideoSecu 24&amp;quot; Long Arm TV Wall Mount Low ...</td>\n",
       "      <td>This mount works really well once you get it u...</td>\n",
       "      <td>This mount works really well once you get it u...</td>\n",
       "      <td>This mount works really well once you get it u...</td>\n",
       "      <td>works really well get going problem arms littl...</td>\n",
       "      <td>work really well get go problem arm little goo...</td>\n",
       "    </tr>\n",
       "    <tr>\n",
       "      <th>4</th>\n",
       "      <td>972683275</td>\n",
       "      <td>This wall mount does everything it's supposed ...</td>\n",
       "      <td>4</td>\n",
       "      <td>Fairly good wall mount</td>\n",
       "      <td>VideoSecu 24&amp;quot; Long Arm TV Wall Mount Low ...</td>\n",
       "      <td>This wall mount does everything it's supposed ...</td>\n",
       "      <td>This wall mount does everything it is supposed...</td>\n",
       "      <td>This wall mount does everything it is supposed...</td>\n",
       "      <td>everything supposed piece attaches overly long...</td>\n",
       "      <td>everything suppose piece attache overly long m...</td>\n",
       "    </tr>\n",
       "  </tbody>\n",
       "</table>\n",
       "</div>"
      ],
      "text/plain": [
       "        asin                                         reviewText  overall  \\\n",
       "0  972683275  This is a great buy, compared to a $60 or more...        5   \n",
       "1  972683275  This mount is just what I needed.  It is stron...        5   \n",
       "2  972683275  Great deal, easy to mount and it appears to be...        5   \n",
       "3  972683275  This mount works really well once you get it u...        4   \n",
       "4  972683275  This wall mount does everything it's supposed ...        4   \n",
       "\n",
       "                                             summary  \\\n",
       "0  Excelant mount for Tv. Would buy more if I nee...   \n",
       "1                                            Perfect   \n",
       "2                                     32 In TV Mount   \n",
       "3                Pretty simple, but definitely good!   \n",
       "4                             Fairly good wall mount   \n",
       "\n",
       "                                               title  \\\n",
       "0  VideoSecu 24&quot; Long Arm TV Wall Mount Low ...   \n",
       "1  VideoSecu 24&quot; Long Arm TV Wall Mount Low ...   \n",
       "2  VideoSecu 24&quot; Long Arm TV Wall Mount Low ...   \n",
       "3  VideoSecu 24&quot; Long Arm TV Wall Mount Low ...   \n",
       "4  VideoSecu 24&quot; Long Arm TV Wall Mount Low ...   \n",
       "\n",
       "                                      review_no_html  \\\n",
       "0  This is a great buy, compared to a $60 or more...   \n",
       "1  This mount is just what I needed.  It is stron...   \n",
       "2  Great deal, easy to mount and it appears to be...   \n",
       "3  This mount works really well once you get it u...   \n",
       "4  This wall mount does everything it's supposed ...   \n",
       "\n",
       "                               review_no_contraction  \\\n",
       "0  This is a great buy, compared to a $60 or more...   \n",
       "1  This mount is just what I needed.  It is stron...   \n",
       "2  Great deal, easy to mount and it appears to be...   \n",
       "3  This mount works really well once you get it u...   \n",
       "4  This wall mount does everything it is supposed...   \n",
       "\n",
       "                                      review_no_punc  \\\n",
       "0  This is a great buy compared to a 60 or more a...   \n",
       "1  This mount is just what I needed  It is strong...   \n",
       "2  Great deal easy to mount and it appears to be ...   \n",
       "3  This mount works really well once you get it u...   \n",
       "4  This wall mount does everything it is supposed...   \n",
       "\n",
       "                                 review_no_stopwords  \\\n",
       "0                 great buy compared 60 retail store   \n",
       "1  needed strong sturdy folds almost flat enable ...   \n",
       "2  great deal easy appears fairly sturdy mounted ...   \n",
       "3  works really well get going problem arms littl...   \n",
       "4  everything supposed piece attaches overly long...   \n",
       "\n",
       "                                   review_lemmatized  \n",
       "0                    great buy compare  retail store  \n",
       "1  need strong sturdy fold almost flat enable tel...  \n",
       "2   great deal easy appear fairly sturdy  work great  \n",
       "3  work really well get go problem arm little goo...  \n",
       "4  everything suppose piece attache overly long m...  "
      ]
     },
     "execution_count": 23,
     "metadata": {},
     "output_type": "execute_result"
    }
   ],
   "source": [
    "df.head()"
   ]
  },
  {
   "cell_type": "markdown",
   "metadata": {
    "id": "5mO6rdSJqVOd"
   },
   "source": [
    "Create the Dictionary and Corpus needed for Topic Modeling"
   ]
  },
  {
   "cell_type": "code",
   "execution_count": 24,
   "metadata": {
    "id": "Lf3oiex-qgIh"
   },
   "outputs": [],
   "source": [
    "reviews = df['review_lemmatized'].copy()\n",
    "reviews = reviews.apply(lambda x: x.split())"
   ]
  },
  {
   "cell_type": "code",
   "execution_count": 25,
   "metadata": {
    "colab": {
     "base_uri": "https://localhost:8080/"
    },
    "id": "YhQSvTu2qk5d",
    "outputId": "57d119db-a144-42da-d23f-39a3d50885fb"
   },
   "outputs": [
    {
     "data": {
      "text/plain": [
       "0                     [great, buy, compare, retail, store]\n",
       "1        [need, strong, sturdy, fold, almost, flat, ena...\n",
       "2        [great, deal, easy, appear, fairly, sturdy, wo...\n",
       "3        [work, really, well, get, go, problem, arm, li...\n",
       "4        [everything, suppose, piece, attache, overly, ...\n",
       "                               ...                        \n",
       "13114    [reason, go, one, sometimes, remote, hard, tim...\n",
       "13115    [really, well, make, extremely, durable, set, ...\n",
       "13116    [great, little, contraption, keep, apple, stat...\n",
       "13117    [sturdy, affix, supply, double, sided, tape, h...\n",
       "13118    [wellmade, accessory, hold, apple, device, sec...\n",
       "Name: review_lemmatized, Length: 13119, dtype: object"
      ]
     },
     "execution_count": 25,
     "metadata": {},
     "output_type": "execute_result"
    }
   ],
   "source": [
    "reviews"
   ]
  },
  {
   "cell_type": "code",
   "execution_count": 26,
   "metadata": {
    "id": "sSCez8sHqPxr"
   },
   "outputs": [],
   "source": [
    "# Create Dictionary\n",
    "dictionary = corpora.Dictionary(reviews)\n",
    "dictionary.filter_extremes(no_below=3)"
   ]
  },
  {
   "cell_type": "code",
   "execution_count": 27,
   "metadata": {
    "colab": {
     "base_uri": "https://localhost:8080/"
    },
    "id": "NY-Ypep0sz0Z",
    "outputId": "961e7492-f1d6-4a8c-ccf1-b1aaba3950d1"
   },
   "outputs": [
    {
     "name": "stdout",
     "output_type": "stream",
     "text": [
      "number of documents 13119\n",
      "number of terms 5707\n"
     ]
    }
   ],
   "source": [
    "# number of terms\n",
    "nd = dictionary.num_docs\n",
    "nt = len(dictionary.keys())\n",
    "print(\"number of documents\", nd)\n",
    "print(\"number of terms\", nt)"
   ]
  },
  {
   "cell_type": "code",
   "execution_count": 28,
   "metadata": {
    "colab": {
     "base_uri": "https://localhost:8080/"
    },
    "id": "nBxR4Rx0szxO",
    "outputId": "fad110bf-b91a-413f-f003-35867737033a"
   },
   "outputs": [
    {
     "name": "stdout",
     "output_type": "stream",
     "text": [
      "[[(0, 1), (1, 1), (2, 1), (3, 1), (4, 1)]]\n"
     ]
    }
   ],
   "source": [
    "# Create Corpus\n",
    "texts = reviews\n",
    "\n",
    "# Term Document Frequency\n",
    "corpus = [dictionary.doc2bow(text) for text in texts]\n",
    "\n",
    "# View\n",
    "print(corpus[:1])"
   ]
  },
  {
   "cell_type": "code",
   "execution_count": 29,
   "metadata": {
    "colab": {
     "base_uri": "https://localhost:8080/"
    },
    "id": "aCAZ_fzRszrl",
    "outputId": "4d8a45f5-4cf2-4206-c017-94f3e5b584d4"
   },
   "outputs": [
    {
     "data": {
      "text/plain": [
       "[[('buy', 1), ('compare', 1), ('great', 1), ('retail', 1), ('store', 1)]]"
      ]
     },
     "execution_count": 29,
     "metadata": {},
     "output_type": "execute_result"
    }
   ],
   "source": [
    "# Human readable format of corpus (term-frequency)\n",
    "[[(dictionary[id], freq) for id, freq in cp] for cp in corpus[:1]]"
   ]
  },
  {
   "cell_type": "markdown",
   "metadata": {
    "id": "ujQ6-5jGvh8j"
   },
   "source": [
    "Building the Topic Model"
   ]
  },
  {
   "cell_type": "code",
   "execution_count": 30,
   "metadata": {
    "id": "bd_H9BGGviYv"
   },
   "outputs": [],
   "source": [
    "lda_model = gensim.models.ldamodel.LdaModel(corpus=corpus,\n",
    "                                           id2word=dictionary,\n",
    "                                           num_topics=20, \n",
    "                                           random_state=100,\n",
    "                                           update_every=1,\n",
    "                                           chunksize=100,\n",
    "                                           passes=10,\n",
    "                                           alpha='auto',\n",
    "                                           per_word_topics=True,\n",
    "                                           iterations = 400)"
   ]
  },
  {
   "cell_type": "markdown",
   "metadata": {
    "id": "1RnS2ybXwovd"
   },
   "source": [
    "View the topics in LDA model"
   ]
  },
  {
   "cell_type": "code",
   "execution_count": 31,
   "metadata": {
    "id": "g68VMtc2wl5F"
   },
   "outputs": [
    {
     "name": "stdout",
     "output_type": "stream",
     "text": [
      "[(0,\n",
      "  '0.084*\"drywall\" + 0.084*\"behind\" + 0.074*\"range\" + 0.060*\"plug\" + '\n",
      "  '0.054*\"hide\" + 0.040*\"super\" + 0.040*\"call\" + 0.036*\"send\" + 0.035*\"finder\" '\n",
      "  '+ 0.034*\"durable\"'),\n",
      " (1,\n",
      "  '0.121*\"use\" + 0.079*\"screw\" + 0.058*\"bracket\" + 0.054*\"bolt\" + 0.049*\"stud\" '\n",
      "  '+ 0.043*\"two\" + 0.037*\"level\" + 0.036*\"include\" + 0.034*\"small\" + '\n",
      "  '0.029*\"attach\"'),\n",
      " (2,\n",
      "  '0.050*\"much\" + 0.045*\"installation\" + 0.044*\"instal\" + 0.043*\"set\" + '\n",
      "  '0.041*\"unit\" + 0.038*\"think\" + 0.037*\"right\" + 0.035*\"instruction\" + '\n",
      "  '0.035*\"enough\" + 0.034*\"place\"'),\n",
      " (3,\n",
      "  '0.097*\"work\" + 0.085*\"easy\" + 0.077*\"great\" + 0.071*\"good\" + 0.063*\"well\" + '\n",
      "  '0.055*\"install\" + 0.051*\"buy\" + 0.051*\"hold\" + 0.044*\"price\" + '\n",
      "  '0.034*\"sturdy\"'),\n",
      " (4,\n",
      "  '0.090*\"screen\" + 0.090*\"flat\" + 0.053*\"vesa\" + 0.048*\"low\" + 0.046*\"x\" + '\n",
      "  '0.045*\"view\" + 0.041*\"plasma\" + 0.041*\"turn\" + 0.039*\"space\" + 0.036*\"mm\"'),\n",
      " (5,\n",
      "  '0.424*\"hole\" + 0.214*\"drill\" + 0.067*\"measure\" + 0.049*\"concrete\" + '\n",
      "  '0.047*\"apart\" + 0.033*\"write\" + 0.029*\"complain\" + 0.023*\"pilot\" + '\n",
      "  '0.020*\"family\" + 0.016*\"detail\"'),\n",
      " (6,\n",
      "  '0.121*\"exactly\" + 0.100*\"sony\" + 0.087*\"tell\" + 0.082*\"nothing\" + '\n",
      "  '0.065*\"wish\" + 0.060*\"simply\" + 0.060*\"mine\" + 0.051*\"complaint\" + '\n",
      "  '0.050*\"mention\" + 0.047*\"smooth\"'),\n",
      " (7,\n",
      "  '0.039*\"one\" + 0.037*\"would\" + 0.036*\"get\" + 0.027*\"make\" + 0.020*\"look\" + '\n",
      "  '0.020*\"like\" + 0.019*\"product\" + 0.019*\"come\" + 0.018*\"want\" + '\n",
      "  '0.018*\"cable\"'),\n",
      " (8,\n",
      "  '0.134*\"pay\" + 0.114*\"pound\" + 0.066*\"quick\" + 0.065*\"brand\" + 0.059*\"beat\" '\n",
      "  '+ 0.049*\"otherwise\" + 0.048*\"cabinet\" + 0.040*\"manual\" + 0.036*\"compatible\" '\n",
      "  '+ 0.035*\"relatively\"'),\n",
      " (9,\n",
      "  '0.079*\"stand\" + 0.065*\"heavy\" + 0.058*\"weight\" + 0.057*\"try\" + '\n",
      "  '0.051*\"allow\" + 0.050*\"solid\" + 0.041*\"however\" + 0.040*\"support\" + '\n",
      "  '0.040*\"keep\" + 0.032*\"people\"'),\n",
      " (10,\n",
      "  '0.412*\"recommend\" + 0.150*\"highly\" + 0.118*\"setup\" + 0.113*\"three\" + '\n",
      "  '0.067*\"value\" + 0.046*\"friend\" + 0.035*\"variety\" + 0.000*\"antenna\" + '\n",
      "  '0.000*\"channel\" + 0.000*\"bar\"'),\n",
      " (11,\n",
      "  '0.455*\"arm\" + 0.108*\"expensive\" + 0.088*\"wrench\" + 0.064*\"suppose\" + '\n",
      "  '0.058*\"joint\" + 0.040*\"loosen\" + 0.036*\"allen\" + 0.027*\"initially\" + '\n",
      "  '0.026*\"min\" + 0.018*\"trick\"'),\n",
      " (12,\n",
      "  '0.472*\"side\" + 0.152*\"hook\" + 0.144*\"feature\" + 0.090*\"outside\" + '\n",
      "  '0.041*\"attache\" + 0.013*\"plaster\" + 0.000*\"antenna\" + 0.000*\"channel\" + '\n",
      "  '0.000*\"mohu\" + 0.000*\"signal\"'),\n",
      " (13,\n",
      "  '0.200*\"end\" + 0.115*\"power\" + 0.079*\"cord\" + 0.076*\"instead\" + '\n",
      "  '0.072*\"connect\" + 0.068*\"local\" + 0.038*\"connection\" + 0.036*\"clip\" + '\n",
      "  '0.034*\"pattern\" + 0.034*\"spot\"'),\n",
      " (14,\n",
      "  '0.400*\"metal\" + 0.268*\"light\" + 0.143*\"straight\" + 0.049*\"extended\" + '\n",
      "  '0.009*\"hardly\" + 0.001*\"guage\" + 0.000*\"antenna\" + 0.000*\"channel\" + '\n",
      "  '0.000*\"bar\" + 0.000*\"sound\"'),\n",
      " (15,\n",
      "  '0.164*\"lb\" + 0.116*\"least\" + 0.094*\"extremely\" + 0.073*\"month\" + '\n",
      "  '0.073*\"already\" + 0.069*\"weigh\" + 0.068*\"else\" + 0.066*\"fact\" + '\n",
      "  '0.054*\"week\" + 0.050*\"within\"'),\n",
      " (16,\n",
      "  '0.750*\"inch\" + 0.135*\"spend\" + 0.025*\"ton\" + 0.000*\"antenna\" + '\n",
      "  '0.000*\"soundbar\" + 0.000*\"bar\" + 0.000*\"channel\" + 0.000*\"sound\" + '\n",
      "  '0.000*\"shelf\" + 0.000*\"omnimount\"'),\n",
      " (17,\n",
      "  '0.172*\"tilt\" + 0.104*\"angle\" + 0.100*\"adjust\" + 0.077*\"swivel\" + '\n",
      "  '0.066*\"pull\" + 0.065*\"tighten\" + 0.051*\"location\" + 0.036*\"although\" + '\n",
      "  '0.023*\"movement\" + 0.021*\"push\"'),\n",
      " (18,\n",
      "  '0.433*\"hdtv\" + 0.165*\"replace\" + 0.115*\"later\" + 0.112*\"choice\" + '\n",
      "  '0.023*\"videosecu\" + 0.000*\"antenna\" + 0.000*\"channel\" + 0.000*\"mohu\" + '\n",
      "  '0.000*\"sky\" + 0.000*\"signal\"'),\n",
      " (19,\n",
      "  '0.451*\"monitor\" + 0.132*\"desk\" + 0.067*\"possible\" + 0.053*\"yet\" + '\n",
      "  '0.051*\"stable\" + 0.051*\"completely\" + 0.037*\"fantastic\" + 0.024*\"image\" + '\n",
      "  '0.023*\"glad\" + 0.022*\"ft\"')]\n"
     ]
    }
   ],
   "source": [
    "pprint(lda_model.print_topics())\n",
    "doc_lda = lda_model[corpus]"
   ]
  },
  {
   "cell_type": "markdown",
   "metadata": {
    "id": "5RqU3zZjxkXt"
   },
   "source": [
    "#### Chages on each run\n",
    "\n",
    "Topic 0 is a represented as _0.082*\"minute\" + 0.031*\"player\" + 0.025*\"customer\" + 0.023*\"dvd\" + '\n",
    "  '0.022*\"hd\" + 0.022*\"inside\" + 0.018*\"beat\" + 0.016*\"double\" + 0.016*\"ne\" + '\n",
    "  '0.015*\"function\"\n",
    "\n",
    "\n",
    "It means the top 10 keywords that contribute to this topic are: minute, player, customer.. and so on and the weight of minute on topic 0 is 0.082.\n",
    "\n",
    "The weights reflect how important a keyword is to that topic."
   ]
  },
  {
   "cell_type": "markdown",
   "metadata": {
    "id": "lBqkspUqyOUD"
   },
   "source": [
    " Compute Model Perplexity and Coherence Score"
   ]
  },
  {
   "cell_type": "code",
   "execution_count": 32,
   "metadata": {
    "colab": {
     "base_uri": "https://localhost:8080/"
    },
    "id": "LyAh0ip7wl2E",
    "outputId": "be4e9abe-8bb3-441e-ae69-2e108b58be48"
   },
   "outputs": [
    {
     "name": "stdout",
     "output_type": "stream",
     "text": [
      "\n",
      "Perplexity:  -11.28093983685892\n",
      "\n",
      "Coherence Score:  0.3123686289502873\n"
     ]
    }
   ],
   "source": [
    "# Compute Perplexity\n",
    "print('\\nPerplexity: ', lda_model.log_perplexity(corpus))  # a measure of how good the model is. lower the better.\n",
    "\n",
    "# Compute Coherence Score\n",
    "coherence_model_lda = CoherenceModel(model=lda_model, texts=reviews, dictionary=dictionary, coherence='c_v')\n",
    "coherence_lda = coherence_model_lda.get_coherence()\n",
    "print('\\nCoherence Score: ', coherence_lda)"
   ]
  },
  {
   "cell_type": "markdown",
   "metadata": {
    "id": "rUGrYzfRynNV"
   },
   "source": [
    "Visualize the topics-keywords"
   ]
  },
  {
   "cell_type": "code",
   "execution_count": 33,
   "metadata": {
    "id": "mjVD7qpUy5LQ"
   },
   "outputs": [],
   "source": [
    "import pyLDAvis\n",
    "import pyLDAvis.gensim_models as gensimvis"
   ]
  },
  {
   "cell_type": "code",
   "execution_count": 34,
   "metadata": {
    "colab": {
     "base_uri": "https://localhost:8080/",
     "height": 915
    },
    "id": "XA-3UZd-yntc",
    "outputId": "039af56a-563b-4c46-abc9-d2d1b470181e"
   },
   "outputs": [
    {
     "name": "stderr",
     "output_type": "stream",
     "text": [
      "/Users/swapnilkailassethi/opt/anaconda3/lib/python3.9/site-packages/pyLDAvis/_prepare.py:246: FutureWarning: In a future version of pandas all arguments of DataFrame.drop except for the argument 'labels' will be keyword-only\n",
      "  default_term_info = default_term_info.sort_values(\n",
      "/Users/swapnilkailassethi/opt/anaconda3/lib/python3.9/site-packages/past/builtins/misc.py:45: DeprecationWarning: the imp module is deprecated in favour of importlib; see the module's documentation for alternative uses\n",
      "  from imp import reload\n",
      "/Users/swapnilkailassethi/opt/anaconda3/lib/python3.9/site-packages/past/builtins/misc.py:45: DeprecationWarning: the imp module is deprecated in favour of importlib; see the module's documentation for alternative uses\n",
      "  from imp import reload\n"
     ]
    },
    {
     "data": {
      "text/html": [
       "\n",
       "<link rel=\"stylesheet\" type=\"text/css\" href=\"https://cdn.jsdelivr.net/gh/bmabey/pyLDAvis@3.3.1/pyLDAvis/js/ldavis.v1.0.0.css\">\n",
       "\n",
       "\n",
       "<div id=\"ldavis_el30641405344444311689880199436\"></div>\n",
       "<script type=\"text/javascript\">\n",
       "\n",
       "var ldavis_el30641405344444311689880199436_data = {\"mdsDat\": {\"x\": [0.27948905640441696, 0.23896237083489963, 0.2461564079101611, 0.14850542299275, 0.07522515351606028, 0.04102494219274368, 0.03151943565311153, -0.02192519607648454, -0.03943125214733213, -0.06632464269917739, -0.0693552509469899, -0.06679210342575244, -0.08841788038277625, -0.07519732339918844, -0.09345774882751996, -0.06207951134504763, -0.1044390259949609, -0.10283479806318147, -0.13119715963865486, -0.13943089655707647], \"y\": [-0.17257379075619392, -0.0930829852394855, -0.14239907142742939, 0.20828968799730704, 0.258900008652448, 0.18248807941694323, 0.13461780779893398, 0.0419010270588732, 0.015260394088281446, -0.018284974323867737, -0.021845910488874406, -0.018718116761713047, -0.040301860940348724, -0.027775016196759282, -0.04482716782942948, -0.013518562978019304, -0.05327746053115546, -0.0521017070004901, -0.06966502492631946, -0.0730853556127011], \"topics\": [1, 2, 3, 4, 5, 6, 7, 8, 9, 10, 11, 12, 13, 14, 15, 16, 17, 18, 19, 20], \"cluster\": [1, 1, 1, 1, 1, 1, 1, 1, 1, 1, 1, 1, 1, 1, 1, 1, 1, 1, 1, 1], \"Freq\": [36.70114225823474, 14.69647102154122, 14.557017595462732, 9.420748182440386, 5.290339280783572, 3.7071088523270497, 2.8842875524973204, 1.7603662831380509, 1.2404050246254084, 1.1849670071917602, 1.1321754898184018, 1.0912877438236512, 1.0714584081633525, 1.0485045253361314, 0.9833447802646431, 0.9447765530762663, 0.8033193232506052, 0.6969868457935389, 0.46777329138579854, 0.31751998084537075]}, \"tinfo\": {\"Term\": [\"use\", \"inch\", \"work\", \"easy\", \"hole\", \"arm\", \"screw\", \"great\", \"recommend\", \"monitor\", \"good\", \"tilt\", \"well\", \"side\", \"bracket\", \"install\", \"bolt\", \"buy\", \"hold\", \"one\", \"stud\", \"would\", \"get\", \"stand\", \"price\", \"two\", \"drill\", \"screen\", \"flat\", \"much\", \"one\", \"get\", \"look\", \"like\", \"product\", \"want\", \"cable\", \"go\", \"back\", \"could\", \"way\", \"put\", \"really\", \"little\", \"would\", \"fit\", \"even\", \"find\", \"thing\", \"time\", \"move\", \"problem\", \"see\", \"box\", \"able\", \"give\", \"say\", \"issue\", \"seem\", \"first\", \"make\", \"bit\", \"also\", \"come\", \"take\", \"may\", \"need\", \"screw\", \"bracket\", \"bolt\", \"stud\", \"level\", \"include\", \"small\", \"attach\", \"hardware\", \"plate\", \"long\", \"anchor\", \"size\", \"secure\", \"center\", \"bottom\", \"actually\", \"remove\", \"kit\", \"washer\", \"lag\", \"onto\", \"spacer\", \"mean\", \"hdmi\", \"tool\", \"vertical\", \"standard\", \"properly\", \"nut\", \"large\", \"use\", \"two\", \"hang\", \"extra\", \"work\", \"easy\", \"great\", \"well\", \"install\", \"price\", \"sturdy\", \"quality\", \"purchase\", \"simple\", \"samsung\", \"still\", \"build\", \"know\", \"perfect\", \"lead\", \"lcd\", \"love\", \"home\", \"happy\", \"add\", \"item\", \"excellent\", \"note\", \"corner\", \"office\", \"son\", \"lose\", \"application\", \"word\", \"buy\", \"another\", \"hold\", \"good\", \"cheap\", \"need\", \"much\", \"installation\", \"instal\", \"set\", \"unit\", \"think\", \"enough\", \"place\", \"design\", \"minute\", \"less\", \"feel\", \"provide\", \"television\", \"sit\", \"strong\", \"help\", \"device\", \"close\", \"definitely\", \"probably\", \"day\", \"bad\", \"almost\", \"model\", \"line\", \"type\", \"follow\", \"consider\", \"adjustable\", \"instruction\", \"part\", \"right\", \"leave\", \"stand\", \"heavy\", \"weight\", \"try\", \"allow\", \"solid\", \"however\", \"support\", \"keep\", \"people\", \"quite\", \"adjustment\", \"extend\", \"degree\", \"assemble\", \"overall\", \"full\", \"tight\", \"duty\", \"swing\", \"stay\", \"handle\", \"test\", \"construction\", \"amount\", \"extension\", \"mind\", \"sag\", \"insert\", \"computer\", \"case\", \"screen\", \"flat\", \"vesa\", \"low\", \"x\", \"view\", \"plasma\", \"turn\", \"space\", \"mm\", \"slide\", \"second\", \"bedroom\", \"person\", \"display\", \"couple\", \"panel\", \"front\", \"fairly\", \"save\", \"profile\", \"step\", \"tip\", \"anywhere\", \"effort\", \"driver\", \"thought\", \"separate\", \"wife\", \"drive\", \"tilt\", \"angle\", \"adjust\", \"swivel\", \"pull\", \"tighten\", \"location\", \"although\", \"movement\", \"push\", \"basic\", \"perform\", \"please\", \"brick\", \"loose\", \"state\", \"imagine\", \"recently\", \"exact\", \"actual\", \"edge\", \"personally\", \"comfortable\", \"helper\", \"convenient\", \"extender\", \"series\", \"nail\", \"general\", \"risk\", \"stiff\", \"fully\", \"drywall\", \"behind\", \"range\", \"plug\", \"hide\", \"super\", \"call\", \"send\", \"finder\", \"durable\", \"motion\", \"panasonic\", \"advertise\", \"directly\", \"appear\", \"ok\", \"purpose\", \"block\", \"somewhat\", \"choose\", \"amazing\", \"connector\", \"version\", \"weak\", \"lie\", \"ratchet\", \"fitting\", \"desire\", \"charm\", \"mounting\", \"end\", \"power\", \"cord\", \"instead\", \"connect\", \"local\", \"connection\", \"clip\", \"pattern\", \"spot\", \"upgrade\", \"visible\", \"buck\", \"care\", \"chance\", \"become\", \"philip\", \"nuts\", \"hdtvs\", \"sideways\", \"hz\", \"poorly\", \"detailed\", \"industry\", \"effortlessly\", \"antenna\", \"channel\", \"mohu\", \"signal\", \"station\", \"sky\", \"hole\", \"drill\", \"measure\", \"concrete\", \"apart\", \"write\", \"complain\", \"pilot\", \"family\", \"detail\", \"suggestion\", \"hint\", \"suggest\", \"drilling\", \"thread\", \"mark\", \"either\", \"eye\", \"pencil\", \"socket\", \"measurement\", \"wood\", \"strain\", \"leveler\", \"shear\", \"locate\", \"scratch\", \"ceiling\", \"extendable\", \"horizontal\", \"projector\", \"m\", \"bar\", \"steel\", \"lift\", \"soundbar\", \"single\", \"height\", \"sound\", \"run\", \"shelf\", \"antenna\", \"omnimount\", \"slightly\", \"channel\", \"signal\", \"mohu\", \"apple\", \"exactly\", \"sony\", \"tell\", \"nothing\", \"wish\", \"simply\", \"mine\", \"complaint\", \"mention\", \"smooth\", \"phillip\", \"describe\", \"seller\", \"affix\", \"news\", \"u\", \"planning\", \"serve\", \"willing\", \"condition\", \"shoot\", \"static\", \"rigid\", \"flatpanel\", \"ur\", \"apple\", \"tape\", \"sticky\", \"airport\", \"wellmade\", \"shelf\", \"channel\", \"antenna\", \"sound\", \"bar\", \"recommend\", \"highly\", \"setup\", \"three\", \"value\", \"friend\", \"variety\", \"sound\", \"bar\", \"anyone\", \"sided\", \"double\", \"soundbar\", \"apple\", \"lg\", \"elliptical\", \"leaf\", \"additional\", \"mediocre\", \"surprise\", \"absolutely\", \"omni\", \"forward\", \"pioneer\", \"exercise\", \"roku\", \"clean\", \"sway\", \"glass\", \"rear\", \"omnimount\", \"speaker\", \"digital\", \"tape\", \"channel\", \"watch\", \"mohu\", \"sky\", \"supply\", \"antenna\", \"shelf\", \"height\", \"signal\", \"run\", \"station\", \"mile\", \"option\", \"system\", \"lock\", \"arm\", \"expensive\", \"wrench\", \"suppose\", \"joint\", \"loosen\", \"allen\", \"initially\", \"min\", \"trick\", \"overly\", \"ipad\", \"clamp\", \"projector\", \"tension\", \"slightly\", \"ball\", \"wobble\", \"socket\", \"depth\", \"av\", \"lock\", \"boltsnut\", \"tube\", \"anymore\", \"knob\", \"attention\", \"single\", \"narrow\", \"round\", \"dual\", \"either\", \"height\", \"ceiling\", \"glass\", \"material\", \"short\", \"omnimount\", \"assembly\", \"shelf\", \"adapter\", \"bar\", \"sound\", \"channel\", \"antenna\", \"apple\", \"option\", \"soundbar\", \"lb\", \"least\", \"extremely\", \"month\", \"already\", \"weigh\", \"else\", \"fact\", \"week\", \"within\", \"living\", \"worried\", \"skeptical\", \"reservation\", \"pioneer\", \"list\", \"attic\", \"dozen\", \"speaker\", \"mile\", \"max\", \"begin\", \"concern\", \"camera\", \"leaf\", \"shear\", \"forward\", \"farth\", \"surprise\", \"restock\", \"assembly\", \"soundbar\", \"someone\", \"break\", \"station\", \"mohu\", \"sky\", \"channel\", \"sound\", \"bar\", \"antenna\", \"run\", \"shelf\", \"option\", \"apple\", \"signal\", \"omnimount\", \"pay\", \"pound\", \"quick\", \"brand\", \"beat\", \"otherwise\", \"cabinet\", \"manual\", \"compatible\", \"relatively\", \"usually\", \"luckily\", \"user\", \"prefer\", \"often\", \"search\", \"hesitate\", \"online\", \"admit\", \"bother\", \"surprisingly\", \"attached\", \"wherever\", \"leftover\", \"muscle\", \"system\", \"fear\", \"sound\", \"mmx\", \"minor\", \"bar\", \"soundbar\", \"station\", \"antenna\", \"channel\", \"mohu\", \"monitor\", \"desk\", \"possible\", \"yet\", \"stable\", \"completely\", \"fantastic\", \"image\", \"glad\", \"ft\", \"functional\", \"affordable\", \"opportunity\", \"link\", \"dual\", \"arctic\", \"hub\", \"clamp\", \"desktop\", \"usb\", \"\\\"\", \"camera\", \"z\", \"angling\", \"exchange\", \"adjustability\", \"balanced\", \"deski\", \"stage\", \"peoplethe\", \"soft\", \"height\", \"tend\", \"option\", \"show\", \"material\", \"either\", \"assembly\", \"pole\", \"run\", \"antenna\", \"signal\", \"mohu\", \"sound\", \"channel\", \"bar\", \"sky\", \"omnimount\", \"inch\", \"spend\", \"ton\", \"soundbar\", \"compartment\", \"tablet\", \"omni\", \"relocate\", \"rv\", \"slim\", \"storage\", \"kitchen\", \"glare\", \"pros\", \"le\", \"critical\", \"reflection\", \"receptacle\", \"clearance\", \"enlarge\", \"road\", \"mechanical\", \"google\", \"asin\", \"plywood\", \"interior\", \"locking\", \"omh\", \"tvi\", \"glass\", \"lg\", \"mechanism\", \"face\", \"soon\", \"horrible\", \"horizontal\", \"lock\", \"pole\", \"ceiling\", \"project\", \"speaker\", \"clamp\", \"eye\", \"longer\", \"half\", \"height\", \"watch\", \"bar\", \"short\", \"assembly\", \"material\", \"omnimount\", \"thick\", \"change\", \"wood\", \"sound\", \"run\", \"shelf\", \"antenna\", \"channel\", \"anyone\", \"option\", \"signal\", \"system\", \"station\", \"apple\", \"mohu\", \"side\", \"hook\", \"feature\", \"outside\", \"attache\", \"plaster\", \"mohu\", \"sky\", \"internet\", \"signal\", \"amp\", \"antenna\", \"major\", \"ground\", \"camera\", \"attic\", \"imac\", \"distribution\", \"preamp\", \"run\", \"molly\", \"mlb\", \"appletv\", \"splitter\", \"verizon\", \"offer\", \"boost\", \"jack\", \"hulu\", \"amplifier\", \"omnimount\", \"along\", \"channel\", \"reception\", \"usb\", \"digital\", \"leaf\", \"mile\", \"option\", \"supply\", \"lift\", \"bar\", \"soundbar\", \"show\", \"shelf\", \"height\", \"apple\", \"change\", \"sound\", \"either\", \"watch\", \"station\", \"metal\", \"light\", \"straight\", \"extended\", \"hardly\", \"guage\", \"tvcomputer\", \"plain\", \"stuff\", \"photo\", \"study\", \"sheet\", \"ipad\", \"neck\", \"sided\", \"rack\", \"umbrella\", \"ring\", \"flash\", \"buyer\", \"pain\", \"orange\", \"securelythe\", \"somebody\", \"reconsider\", \"equal\", \"shelve\", \"investment\", \"brilliant\", \"pillow\", \"premium\", \"forward\", \"double\", \"mistake\", \"supply\", \"adapter\", \"network\", \"thick\", \"quickly\", \"wood\", \"mile\", \"watch\", \"station\", \"bar\", \"soundbar\", \"break\", \"apple\", \"short\", \"sound\", \"omnimount\", \"antenna\", \"assembly\", \"channel\", \"pick\", \"mohu\", \"shelf\", \"signal\", \"run\", \"hdtv\", \"replace\", \"later\", \"choice\", \"videosecu\", \"antenna\", \"mohu\", \"channel\", \"sky\", \"signal\", \"reception\", \"amplifier\", \"leaf\", \"tower\", \"mile\", \"digital\", \"amplify\", \"indoor\", \"roof\", \"broadcast\", \"attic\", \"ultimate\", \"station\", \"vhf\", \"uhf\", \"frequency\", \"capture\", \"strength\", \"pick\", \"dtv\", \"usb\", \"experience\", \"run\", \"network\", \"port\"], \"Freq\": [9683.0, 3065.0, 7205.0, 6324.0, 2554.0, 2480.0, 5903.0, 5686.0, 2286.0, 2168.0, 6106.0, 2529.0, 4651.0, 1673.0, 4317.0, 4099.0, 4004.0, 3856.0, 4123.0, 7215.0, 3685.0, 6926.0, 6793.0, 2133.0, 3252.0, 3383.0, 1292.0, 1706.0, 1702.0, 2374.0, 7214.000596951789, 6791.925216322392, 3719.9175888008863, 3705.8466256141037, 3615.6575617840126, 3416.5582281887137, 3415.8840785151397, 3255.6765785882576, 3040.131815455902, 2555.271207727366, 2447.4008312086376, 2408.7739661619216, 2378.5221945599515, 2361.5092977976647, 6923.181462767588, 2200.674386924578, 2187.3171883921873, 2110.1868207390226, 1986.1983595247361, 1971.9913501538274, 1943.5300714348934, 1757.2105654015504, 1755.761491103198, 1727.016652521565, 1710.0659582291596, 1683.034988817664, 1649.5307925405311, 1522.0999979930364, 1497.1514213232379, 1486.1311591592932, 5071.335399438927, 1666.6548892489745, 2469.299749355093, 3566.8380054226386, 2073.022756234013, 1804.6157974477458, 2719.7065643571023, 5902.179106332154, 4315.905867218444, 4003.3313873115685, 3684.860777494987, 2775.2292547518805, 2680.3003386718806, 2540.760823900464, 2192.101839700065, 2173.194760606526, 1958.311076946927, 1579.9812230151738, 1407.9186489825427, 1260.5885949605643, 1125.8292841616574, 1055.2091020156552, 884.7691047509873, 872.7253284864744, 703.1808410876121, 672.5961630602835, 644.6597479513108, 595.086587167714, 576.4980607834125, 544.9374432884703, 543.1777326579089, 530.9914304078393, 520.5902687359613, 507.20228839970866, 488.47447130362536, 484.1082084348846, 467.63436831126944, 1709.7024820004804, 9059.692763205723, 3228.6164862061996, 1454.3390528662007, 616.7972918965959, 7203.931593500713, 6323.462808621372, 5684.950567929896, 4650.618649151657, 4098.34516260363, 3251.0195351309703, 2536.9363967430622, 2385.3188081713674, 1924.5406807071781, 1458.213194909831, 1442.3036192881593, 1365.0001838576902, 1218.194005566008, 1203.0934988782105, 1200.0155911503841, 1145.882539240658, 1033.3666871353219, 967.1890521949342, 938.2085337783604, 937.0093337342086, 933.0623316004976, 902.4649847122357, 493.24656686430365, 489.79727306453117, 412.8812121210556, 298.93002072949616, 243.21468428361038, 223.67889133401576, 206.87747916436604, 172.69843441421872, 3796.705243354731, 1518.7895780837382, 3759.6032992497994, 5222.484008704215, 851.7240955847197, 1598.9834708587173, 2373.572917571238, 2150.004502471215, 2086.416970399619, 2042.9548932990722, 1963.3664720732786, 1805.7488296752936, 1658.3728481328292, 1649.346792444957, 1394.4369398830381, 1183.0155673516356, 1124.5879349082277, 1110.3705815132848, 1106.0882225102307, 1002.9026286196665, 990.0913204446856, 946.6233562043483, 936.4212997437821, 860.2416216557693, 702.0889631295519, 694.6528365810065, 641.6739304118714, 625.0175617614555, 618.5453205549711, 567.9236786774003, 494.30022344614406, 491.33069661636887, 461.1507204758667, 451.97008276895036, 413.2019292622656, 412.7236437538323, 1686.0309876648964, 1262.311861565098, 1782.0079572801824, 708.7625266770534, 2132.59579128856, 1753.471448615834, 1546.463430001033, 1531.9499020357985, 1368.8371106501054, 1352.8282701440824, 1109.58171375933, 1087.9088986372979, 1079.95817579296, 864.8673948102542, 837.5111197252223, 736.5057931014659, 699.6348080536104, 533.1629231738377, 522.842301263113, 490.30462696800646, 486.99281925171397, 447.14758883556186, 429.7947102049765, 386.8414417166404, 357.7797229066915, 344.86306671366856, 344.73686277602565, 338.21768679967624, 293.774991447342, 268.7972310577005, 267.4438259411401, 262.5662278351751, 240.01396737351345, 237.76098038907088, 400.98582504267705, 1705.1886906361729, 1701.8075526154043, 993.4323908648915, 910.2065812624086, 875.6930554172404, 850.5220960606522, 776.065735871723, 766.1142500410589, 742.865451222355, 683.1813170232167, 642.9587335927359, 586.4994008482121, 553.7939947902695, 507.6799026135264, 482.9546814818129, 456.01870545951635, 435.3256269045799, 428.09514847060217, 392.13650974596953, 345.9485315180916, 316.9376737187241, 311.34946633486385, 243.0172418774207, 213.38489884223677, 195.08751845742236, 164.16427554308788, 159.73258668599345, 158.03501517337574, 157.1603868493006, 153.6348463513973, 2528.426531988454, 1518.4406850638798, 1459.7926836268498, 1130.0629389159749, 961.0490997603598, 953.12148283025, 753.2396736884936, 521.0588227203147, 336.3954993942757, 307.7139544034547, 300.62236285876025, 264.07421033615765, 261.0653054619443, 242.9931145977515, 228.14915111357905, 214.70963271795574, 193.1745167256532, 190.20179692430682, 177.03381677737474, 171.2541048084125, 157.2024169083476, 152.62219231331844, 114.39208250276623, 97.88312775065825, 91.97750538286357, 84.34696790099127, 82.28254122021052, 80.85383847809604, 58.15549528582201, 53.67390232384418, 201.9669705520271, 199.9370562379147, 755.4510488860144, 750.155958209244, 662.5193773176961, 538.732156771265, 481.59470080426695, 362.0569337022731, 357.546562649602, 320.7195773509911, 312.5519928216714, 306.5427539500378, 298.2307930106938, 293.1385826921336, 285.56063795512773, 274.9170029942274, 271.484838038492, 263.96779741164886, 260.0140305885268, 250.38413070701722, 246.23275054780083, 230.04327465471485, 186.24770240876347, 139.63762355691196, 133.31549690312906, 130.7154631044315, 102.41957020009312, 99.17124265077237, 83.21887442575402, 79.08313698886595, 69.48518926367325, 42.366109110819664, 1262.1293435160342, 726.8443947364683, 499.9814081009035, 480.26968045680104, 455.24459809345234, 427.9438804398321, 242.2976098336003, 228.34884400093125, 215.14095154450558, 213.62528636345624, 185.9629522224936, 183.98194217423153, 158.95330119458973, 137.44917016575985, 131.0076166355166, 95.80859709777987, 84.98498930234364, 65.70458826772133, 59.44959783918101, 50.785471158640654, 42.766343681225806, 38.92691674153834, 19.809752548602006, 9.097846253946944, 8.912315943730052, 0.04941854731183603, 0.049330307913981845, 0.049310167745965736, 0.04930068833317227, 0.049290010373933664, 0.04929464972357063, 2553.3834602510033, 1291.425890020553, 400.81681043444337, 295.69083923099697, 285.55392930447965, 198.04367375576732, 174.69741737312617, 137.818462756944, 120.2606407584026, 94.25625773805935, 73.00544877767099, 42.7032976527324, 0.06250411503608352, 0.06249556330123569, 0.06249674115068623, 0.062496680888621314, 0.06250387398782388, 0.062496122094928504, 0.06249346508570288, 0.062495650955148294, 0.06249427040602487, 0.06250140324316253, 0.0624941717953732, 0.06249333360483399, 0.06249212288516622, 0.062498433966873275, 0.06249336099668167, 0.062499841907844376, 0.06249236941179541, 0.06249797926220167, 0.06249765603839897, 0.06249610565981989, 0.06252034744502276, 0.06249726707416182, 0.06249912971980452, 0.06250962627583811, 0.06249877910415413, 0.0625023674362011, 0.06251128622180795, 0.06250283857598132, 0.06250967558116395, 0.06253808640558475, 0.0625015456807705, 0.062498198396983166, 0.06250882643388567, 0.06250007199936494, 0.06250019252349477, 0.06249893249850118, 696.4798958605934, 574.7207789144118, 498.7436175282023, 472.7869123180014, 373.60577492983896, 343.7629520597114, 343.2886200737675, 293.08794175556744, 288.9701252268967, 272.38222712868736, 216.53906925305077, 144.72515512585986, 143.5938892047638, 135.70368191995593, 107.76811357602536, 94.80643033989395, 87.04173107559392, 75.47295853426417, 73.06485110969278, 52.024296563563226, 44.15015565608164, 34.27397529608513, 26.973255321213323, 15.781281537599906, 7.027790547567108, 0.05958720492585636, 0.05957314035516082, 0.05956621013871091, 0.059563006745608695, 0.059561598718248406, 0.05958453019730205, 0.059597207677847125, 0.05963038792110691, 0.059579698936136447, 0.05958027470940646, 2285.7318008420966, 829.7687943056653, 652.007928902991, 626.1987586237381, 369.69940930432585, 257.02055194283867, 193.6042596250038, 0.05851002715581739, 0.05851121783934617, 0.05848813068753383, 0.05847816628088404, 0.0584807545039784, 0.05849640997427422, 0.058495572459588724, 0.05848206627396773, 0.05847571428005782, 0.05848501271117455, 0.05848101685797626, 0.058475608329404835, 0.05847890289018575, 0.058478862528032236, 0.05847564364628916, 0.05848122875928223, 0.05847677378658767, 0.058475613374674024, 0.05848082009247786, 0.05848177869362391, 0.058475199662600466, 0.05848166769770174, 0.05847659720216603, 0.05848959381559886, 0.05848233367323479, 0.05848052242159566, 0.058481193442397904, 0.058518109677059386, 0.05848587040693681, 0.058499290822981574, 0.0584929236932641, 0.05848413483433553, 0.05854200911721129, 0.05849578436089469, 0.05848549705701677, 0.058491975182656426, 0.058485835090052486, 0.05848541633270973, 0.058484775583522636, 0.0584837564391463, 0.0584826262988478, 0.058482585936694274, 2479.0189928456825, 586.6661498955971, 476.7085411280023, 351.136459357316, 316.9545387128982, 215.3241970914047, 196.20930712386897, 148.61597267866875, 142.11856209497697, 99.47079415220222, 32.20295853385476, 0.07060907943005566, 0.07060878221443355, 0.07060885156474538, 0.0706035710338591, 0.07061013454551418, 0.07060175801856419, 0.07060174811137679, 0.07060221870277847, 0.07060059887763794, 0.07060193139434376, 0.07061086272378837, 0.0705972007123584, 0.0706025555471502, 0.07059780009719634, 0.07060122798403808, 0.07059768616454119, 0.07060655805086137, 0.07059802796250662, 0.07059865706890676, 0.07060007875029924, 0.07060978779395505, 0.07061141257268928, 0.07060613204180301, 0.07060427444416478, 0.07060441809838214, 0.07060652832929916, 0.07061069430160251, 0.07060659272601728, 0.07061446398640968, 0.07060507197275079, 0.07061287883642506, 0.07061106582113015, 0.07061505841765392, 0.07062455445678055, 0.07060655309726767, 0.07060524039493665, 0.07060563172883912, 875.2998777508379, 619.8722346064122, 502.72611082122864, 391.3765282234208, 387.41353979513735, 365.98321436289814, 365.07368514897985, 351.3215430745803, 285.95270476889556, 268.97944576352404, 238.93098951913825, 179.11502879374743, 134.48363724815945, 22.643543150742538, 0.05984803746070886, 0.0598500588568366, 0.05985452822669217, 0.0598469176945086, 0.059852560152764446, 0.059859012138965925, 0.05984654443910852, 0.05984686921978132, 0.059847872646636095, 0.05984804715565432, 0.05985391259765566, 0.05984481873881722, 0.05985038848498213, 0.05984427097439891, 0.05984771752750879, 0.059844101312853414, 0.05985458639636491, 0.05986437829127624, 0.05985038848498213, 0.05985125618260051, 0.059858653425984024, 0.05987031644536851, 0.05986323913518507, 0.05988438381122628, 0.0598680429806589, 0.059870078919204824, 0.05991862151110685, 0.05985747064263829, 0.05986497453042183, 0.05985481422758314, 0.05985867281587493, 0.059860301566711675, 0.05985462032867401, 669.752092202059, 567.3902000694898, 332.34317201613914, 325.0931039235103, 293.2071390201821, 244.66833703680385, 242.075707085582, 201.27716123637538, 181.88765817329468, 175.44173384247958, 167.34800751363517, 158.9446456144073, 157.23060752521528, 154.66194323306746, 131.78225252630236, 120.87862250103319, 109.17835311224619, 102.96329610171097, 79.08301585193414, 78.07076935276051, 43.00409409477772, 41.59564609078355, 27.886681579342355, 10.579488434358387, 6.060196163504633, 0.06622758063039133, 0.06621905645937606, 0.06624594737753889, 0.06621536947127293, 0.06621927013192952, 0.06624590191529348, 0.0662356774562997, 0.0662299446671529, 0.06629616042759948, 0.0662557808612221, 0.06623896437664319, 2167.0321624100984, 635.2752642897121, 322.3444268328973, 253.1951645987142, 245.0417621508198, 242.6210231596862, 175.8838764644825, 113.73034506295949, 109.10747696009552, 107.96554940688549, 56.083354615116356, 50.856428896182095, 33.458705866318496, 18.84388669071363, 0.04763573336580688, 0.04763195075147331, 0.047632068685176554, 0.04763489472613939, 0.047630356462522096, 0.04763418275600501, 0.0476310465930818, 0.0476313348754675, 0.04762856998531376, 0.04762813756173521, 0.04762846952327025, 0.04762894999391308, 0.04762808514675599, 0.04762778812854042, 0.04762784054351964, 0.04762768329858198, 0.047628386532886494, 0.04763680350496591, 0.047629461039960456, 0.04763600417653283, 0.04763438368009201, 0.04763224776968888, 0.047634187123919945, 0.04763333101259272, 0.047630242896733795, 0.04763489472613939, 0.047662325231930126, 0.0476375547863347, 0.04763793916284897, 0.04763741938097172, 0.04764221098365523, 0.04763770766335742, 0.04763538393261209, 0.04763381148323555, 3064.3703448739043, 550.156635872443, 101.29861640994967, 0.06449062887886074, 0.06446509934961007, 0.06446558958787907, 0.06446241046698316, 0.06446215049214353, 0.06446303440659824, 0.06446695631275022, 0.06446147455756052, 0.06446464625060389, 0.06446333152070066, 0.06446105116996458, 0.06446091004076591, 0.06446160825890661, 0.0644615562639387, 0.06446172710454758, 0.06446297498377776, 0.06446072434445191, 0.06446197222368208, 0.0644617790995155, 0.0644612517219837, 0.06446105116996458, 0.06446249217336132, 0.0644611403041953, 0.06446305669015592, 0.06446226190993194, 0.06446140770688748, 0.06446830075406368, 0.06446776594867933, 0.06446512163316775, 0.06446862757957635, 0.06446400002743112, 0.06446292298880983, 0.06446706773053863, 0.06447116790515206, 0.06446489136973838, 0.06446823390339064, 0.06446371034118126, 0.06446755796880763, 0.06446598326406479, 0.06446435656435402, 0.06446544845868042, 0.06446632494528257, 0.06447134617361351, 0.06447035826922295, 0.06448341643402443, 0.0644688058480378, 0.06446939264839008, 0.06446689688992974, 0.06447181412832483, 0.06446648093018634, 0.06446781794364724, 0.06446774366512163, 0.06447822436508459, 0.06446994973733212, 0.06447437673745822, 0.06449932689420916, 0.06447974707485951, 0.06446735741678848, 0.06446796650069846, 0.06447103420380597, 0.06446747626242946, 0.06446815219701246, 0.0644677510929742, 0.06446766195874347, 1672.7752561757397, 539.5610728688067, 510.7974078441948, 317.7603044250496, 146.3611511177477, 45.28410819925369, 0.05448945105859382, 0.054479365174231804, 0.05446119124841654, 0.05448136946179512, 0.05446055967227119, 0.05454183965538541, 0.054463176202016225, 0.05446148125787104, 0.05446136525408924, 0.054466076296561215, 0.05445860694194423, 0.05445796247648979, 0.054457775581508, 0.054471257798814926, 0.05445744690412623, 0.05445735023430807, 0.05445789802994434, 0.054457608020489844, 0.05445740823619897, 0.05446074656725298, 0.05445724711983536, 0.05445858116332605, 0.0544577175796171, 0.05446474869772506, 0.05447003331445149, 0.05446167459750737, 0.054494922570302036, 0.05446587006761579, 0.05446223528245274, 0.05446133303081652, 0.054463878669361566, 0.0544664951991066, 0.054464961371325026, 0.05446358865990707, 0.05446231261830727, 0.05447365521030545, 0.05446824814514268, 0.05446335020768892, 0.054469975312560585, 0.05446438779707057, 0.054466682094088385, 0.054462847524634456, 0.054467055884051964, 0.05446316331270713, 0.05446327287183439, 0.05446376911023431, 952.222756521446, 637.6846275414158, 340.32989584678745, 116.73080712775564, 20.864651902462885, 1.2767863169790798, 0.05415514415202515, 0.05415481975882251, 0.05415653688017516, 0.05415611300639037, 0.054155377715131056, 0.054157544661724705, 0.05415806801609163, 0.0541547938073663, 0.05415500574425869, 0.054156160584060094, 0.05415468567629875, 0.054154382909309615, 0.05415517875396677, 0.05415317616659579, 0.05415508792387003, 0.05415300315688771, 0.05415402823940806, 0.05415330159863414, 0.054154010938437254, 0.054154123394747504, 0.054154767855910085, 0.05415562857920776, 0.05415403688989347, 0.054153007482130415, 0.05415367789474921, 0.05415847026366291, 0.05415651957920435, 0.05415514415202515, 0.05416152388501045, 0.05416143738015641, 0.0541582150743435, 0.0541586692248272, 0.054157380302502035, 0.05416011818113233, 0.05416319775393608, 0.054161095685982964, 0.05416223322481356, 0.054168907074302594, 0.05416424878791265, 0.054157752273374396, 0.05416328425879012, 0.05415878168113745, 0.054165952933537195, 0.0541607150646252, 0.054189149210147475, 0.05415894171511742, 0.05417153249662264, 0.05415834050638185, 0.05416154983646666, 0.05416055503064523, 0.054159919219968045, 0.05415837943356617, 698.9183989472483, 265.97261340669945, 185.28267241010073, 180.24708061472805, 36.883494187802384, 0.043509958434062565, 0.04336270672118531, 0.04336829967329439, 0.0433495831012758, 0.04334893132417962, 0.043304284593091505, 0.043297904810974425, 0.04329588488916285, 0.04329257022095751, 0.04329817491679806, 0.043290520939817285, 0.04328806356400872, 0.04328992788137842, 0.043288562672595884, 0.04328710938582738, 0.04328994843290848, 0.043285118823344466, 0.043293829736156884, 0.0432827642051862, 0.0432827642051862, 0.04328253520242268, 0.0432823884057794, 0.04328463439442163, 0.043287306093329384, 0.04328121990449887, 0.04328484284565509, 0.04328423217161904, 0.043286510455522786, 0.04328319578731746, 0.04328291393776235], \"Total\": [9683.0, 3065.0, 7205.0, 6324.0, 2554.0, 2480.0, 5903.0, 5686.0, 2286.0, 2168.0, 6106.0, 2529.0, 4651.0, 1673.0, 4317.0, 4099.0, 4004.0, 3856.0, 4123.0, 7215.0, 3685.0, 6926.0, 6793.0, 2133.0, 3252.0, 3383.0, 1292.0, 1706.0, 1702.0, 2374.0, 7215.124893749052, 6793.049513115408, 3721.0418855939047, 3706.970922407122, 3616.781858577031, 3417.682524981732, 3417.0539960928204, 3256.800875381276, 3041.2561122489205, 2556.3955045203843, 2448.525128001656, 2409.89826295494, 2379.64649135297, 2362.633594590683, 6926.537178600821, 2201.7986837218427, 2188.4414851852057, 2111.311117532041, 1987.3226563177539, 1973.1156469468451, 1944.6543682279112, 1758.3348621945681, 1756.8857878962158, 1728.1409493145827, 1711.1902550221773, 1684.1592856106818, 1650.6550893335489, 1523.224294786054, 1498.2757181162556, 1487.255455952311, 5079.688954781488, 1677.8157541663898, 2586.8381108219696, 3973.8067244517224, 2230.5616096901435, 1935.3263846259158, 4833.236808654131, 5903.296838240894, 4317.023599127184, 4004.449119220311, 3685.9785094037293, 2776.346986660623, 2681.418070580623, 2541.8785558092063, 2193.219571608807, 2174.3124925152683, 1959.4288088556686, 1581.0989549239155, 1409.0363808912844, 1261.706326869306, 1126.947016070399, 1056.3268339243969, 885.8868366597287, 873.8430603952158, 704.2985729963535, 673.713894969025, 645.7774798600523, 596.2043190764555, 577.615792692154, 546.0551751972117, 544.2954645666504, 532.1091623165808, 521.7080431595701, 508.3200203084503, 489.592203212367, 485.2259403490705, 468.7521002200111, 1727.4634399729719, 9683.954160327781, 3383.764683094689, 2334.9839871381164, 960.5441919179561, 7205.052238604703, 6324.583453725362, 5686.071213033887, 4651.739294255648, 4099.465807707621, 3252.1401802349624, 2538.0570418470543, 2386.4394532753595, 1925.66132581117, 1459.3338400138227, 1443.4242643921511, 1366.120828961682, 1219.3146506699998, 1204.2141439822024, 1201.136236254376, 1147.0031843446498, 1034.4873322393137, 968.3096972989256, 939.3291788960344, 938.1299788381999, 934.182976704489, 903.5856298162271, 494.36721196829524, 490.91791819187, 414.0018572250472, 300.05066583348776, 244.33532938760192, 224.79953646667315, 207.9981242828959, 173.81907951821026, 3856.7377710187093, 1558.2800841536853, 4123.103574077398, 6106.100025984179, 1118.3045125733133, 4833.236808654131, 2374.6982241158075, 2151.1298090157843, 2087.5422770325204, 2044.0801998436411, 1964.4917786178476, 1806.8741362198625, 1659.4981546773981, 1650.4720994566485, 1395.562246427607, 1184.1408738962045, 1125.7132414527966, 1111.4958880578538, 1107.2135290547997, 1004.0279351642353, 991.2166269892543, 947.748662748917, 937.5479535051262, 861.3669282056404, 703.2142696741206, 695.7781431255752, 642.7992369564402, 626.14286830896, 619.6706270995398, 569.048985221969, 495.42552999071296, 492.45600316093777, 462.2760270204356, 453.09538931351926, 414.3272358068345, 413.8489502984012, 1752.921032376394, 1306.932364521194, 1888.2581711451785, 746.2620722154387, 2133.7190345741774, 1754.594691901451, 1547.5866732866498, 1533.0731453214153, 1369.9603539357222, 1353.9515134296992, 1110.7049730927295, 1089.0321419229147, 1081.0814190785768, 865.9906380958707, 838.6343630108389, 737.6290363870825, 700.758051339227, 534.2861664594543, 523.9655445487296, 491.42787025362327, 488.1160625373308, 448.27083212117867, 430.91795349059333, 387.9646850022572, 358.9029661923083, 345.98630999928537, 345.8601060932038, 339.34093008529305, 294.8982347329588, 269.9204743433173, 268.5670692267569, 263.6894711207919, 241.13721066885512, 238.8842236746876, 583.4032958950717, 1706.3107238189048, 1702.9295857981363, 994.5544240476232, 911.3286144451403, 876.8150885999721, 851.6441292433839, 777.1877690544546, 767.2362832237906, 743.9874844050867, 684.3033502059484, 644.0807667754676, 587.6214340309438, 554.9160279730012, 508.80193579625825, 484.07671466454474, 457.1407386422482, 436.44766008731176, 429.217181653334, 393.2585429287014, 347.07056470082347, 318.05970690145597, 312.47149955173984, 244.13927506015253, 214.5069320249686, 196.2095516401542, 165.28630873129808, 160.85461986872528, 159.15704835610757, 158.28242003203243, 154.75687953412913, 2529.5479119302654, 1519.562065005691, 1460.914063568661, 1131.1843188577861, 962.170479710409, 954.242862772061, 754.3610536607939, 522.1802026621257, 337.51687933608684, 308.83533434526584, 301.7437428005714, 265.1955903092569, 262.18668540375546, 244.1144945395626, 229.27053105539017, 215.83101265976686, 194.29589666746432, 191.32317686905387, 178.15519671918585, 172.37548475022362, 158.32379685015871, 153.74357227839837, 115.51346244457733, 99.004507735394, 93.09888534990876, 85.46834785252732, 83.40392116495755, 81.97521848267223, 59.27687522763312, 54.79528226565529, 207.87713086689442, 303.5038607967363, 756.577076982949, 751.2819863061786, 663.6454054175666, 539.8581848681996, 482.7207289012017, 363.1829617992079, 358.67259074653674, 321.84560544792583, 313.67802091860614, 307.6687820469726, 299.35682110762855, 294.26461078906834, 286.6866660520625, 276.04303109116216, 272.61086613542676, 265.0938255085836, 261.14005868546155, 251.51015880395198, 247.35877864767153, 231.1693027516496, 187.37373050569823, 140.76365165384672, 134.44152500006382, 131.8414912043022, 103.54559829702787, 100.29727078401628, 84.3449025486384, 80.20916508580069, 70.61121736605227, 43.49213720775441, 1263.2644060703026, 727.9794572907367, 501.1164706551719, 481.40474301106946, 456.37966064772075, 429.07894299703645, 243.4326723878687, 229.48390655519967, 216.276014098774, 214.76034891772466, 187.09801479150502, 185.11700477754664, 160.08836374885814, 138.58423272002827, 132.142679189785, 96.94365965700186, 86.12005185661204, 66.83965082198974, 60.58466046231597, 51.920533712909055, 43.90140623549421, 40.06197929580674, 20.94481514998235, 10.232908990151062, 10.047379191356486, 1.1861548034527492, 1.1852657709591734, 1.1849095217484482, 1.1848346396063227, 1.1846423195772369, 1.1847564024306914, 2554.505296567826, 1292.5477263373753, 401.93864675126565, 296.81267554781925, 286.67576562130193, 199.1655100755255, 175.81925368994843, 138.94029907376625, 121.38247707816078, 95.37809405488159, 74.12728511110174, 43.82513396955465, 1.1844646269019439, 1.1843818432572726, 1.18441291817152, 1.1844151146890263, 1.1845538975001215, 1.1844093215504878, 1.184365166666516, 1.1844075308559183, 1.1843820399415583, 1.184521453141741, 1.184385427424493, 1.1843714475696643, 1.184348979269209, 1.1844698602813222, 1.1843757427170856, 1.1844986171047598, 1.18435715510222, 1.1844636345484005, 1.184457544792789, 1.1844314476266686, 1.1849303602009693, 1.1844559149688882, 1.1844986824231802, 1.184743696886638, 1.1844954970109085, 1.1845935961855785, 1.1848814296624202, 1.184640476324578, 1.1848801140665142, 1.1861548034527492, 1.1846321280652263, 1.1845143427715288, 1.1852657709591734, 1.1848346396063227, 1.1849095217484482, 1.1847283962433062, 697.604664412426, 575.8455474662444, 499.868386080035, 473.9116808698341, 374.73054348167165, 344.88772061154407, 344.4133886256002, 294.21271030740013, 290.0948937787294, 273.50699568052005, 217.66383780912997, 145.8499236776925, 144.71865775659643, 136.82845052033355, 108.89288218446843, 95.93119889172658, 88.16649962742655, 76.5977270860968, 74.18961967574461, 53.14906511539586, 45.27492420791427, 35.39874385754543, 28.09802387304595, 16.906050089432533, 8.152559127513426, 1.1847283962433062, 1.1844649168273962, 1.1843889654366144, 1.1843753625319553, 1.184357742756616, 1.1848801140665142, 1.1852657709591734, 1.1861548034527492, 1.1848814296624202, 1.1849303602009693, 2286.857652264114, 830.8946457276825, 653.1337803250082, 627.3246100457552, 370.8252607263431, 258.1464033648559, 194.73011104702104, 1.1848814296624202, 1.1849303602009693, 1.1845341990239249, 1.1843632111484594, 1.184416699166621, 1.184743696886638, 1.1847283962433062, 1.184461660522961, 1.1843362272085356, 1.1845288032415822, 1.1844497510787664, 1.1843429473939246, 1.184410143199111, 1.1844109301308032, 1.1843458901085864, 1.1844594057599234, 1.1843693253314211, 1.1843458538460645, 1.1844522463887008, 1.1844719368271648, 1.184339009479443, 1.1844702503303457, 1.1843685689028332, 1.1846321280652263, 1.1844852711908715, 1.1844500641922162, 1.1844649168273962, 1.1852657709591734, 1.1845698695524531, 1.1849095217484482, 1.1847564024306914, 1.184541067715033, 1.1861548034527492, 1.1848801140665142, 1.1845935961855785, 1.1848346396063227, 1.184640476324578, 1.1846423195772369, 1.1846209801074874, 1.184582817499296, 1.1845511246991696, 1.1845557513762015, 2480.1327234666337, 587.7798805165478, 477.8222717489531, 352.2501899782668, 318.068269333849, 216.43792771235545, 197.32303774481971, 149.7297033049219, 143.23229273512726, 100.58452477608888, 33.31668919411142, 1.184424886904055, 1.1844478647772771, 1.184457544792789, 1.184392989114413, 1.1845143427715288, 1.1843852012672726, 1.1843934028399998, 1.1844075308559183, 1.18438209391882, 1.184404451646404, 1.1845557513762015, 1.1843363080573517, 1.1844266543295217, 1.1843470770862994, 1.1844054082532398, 1.1843461671209476, 1.1844954970109085, 1.184352594201182, 1.184363175139626, 1.18438737247785, 1.1845538975001215, 1.1845935961855785, 1.1844986171047598, 1.1844702503303457, 1.184481357401577, 1.184530598869768, 1.1846321280652263, 1.1845472579869931, 1.1848801140665142, 1.1845418335532998, 1.1849303602009693, 1.1848814296624202, 1.1852657709591734, 1.1861548034527492, 1.1847283962433062, 1.184582817499296, 1.184743696886638, 876.4243609406725, 620.9967177962468, 503.85059401106327, 392.5010114132554, 388.538022984972, 367.10769755273276, 366.19816833881447, 352.4460262644149, 287.0771879587302, 270.10392895335866, 240.05547271190878, 180.23951198358202, 135.60812044092998, 23.768026345879544, 1.1843693253314211, 1.1844114856308967, 1.1845161645873068, 1.184370316617428, 1.1844852711908715, 1.1846209801074874, 1.184375036470968, 1.184384992939254, 1.1844055204211086, 1.1844111410450127, 1.1845288032415822, 1.184348979269209, 1.1844594057599234, 1.184341302413141, 1.184410143199111, 1.1843387548552287, 1.1845472579869931, 1.184743696886638, 1.1844636124984838, 1.184481758009094, 1.1846423195772369, 1.1849095217484482, 1.1847564024306914, 1.1852657709591734, 1.1848814296624202, 1.1849303602009693, 1.1861548034527492, 1.184640476324578, 1.1848801140665142, 1.184582817499296, 1.1847283962433062, 1.1848346396063227, 1.1846321280652263, 670.8702045086893, 568.5083123761201, 333.4612843227695, 326.2112162301406, 294.32525132681246, 245.78644934343419, 243.19381939221233, 202.39527354300571, 183.0057704841716, 176.55984614910992, 168.4661198202655, 160.06275793345444, 158.3487198318456, 155.7800555396978, 132.90036484661533, 121.99673480766351, 110.29646541887651, 104.08140840834129, 80.20112815856446, 79.18888165939083, 44.12220640140804, 42.71375840713881, 29.004793899692515, 11.697600777568283, 7.178308485975024, 1.1845511246991696, 1.1843992532894028, 1.1848814296624202, 1.1843394387308472, 1.1844134423234602, 1.1849303602009693, 1.184743696886638, 1.1846423195772369, 1.1861548034527492, 1.1852657709591734, 1.1849095217484482, 2168.168861651603, 636.4119635312163, 323.481126107352, 254.33186384315437, 246.17846139232404, 243.75772242025297, 177.02057570598674, 114.86704435142413, 110.24417620159973, 109.10224870934417, 57.22005385662057, 51.993128137686305, 34.59540581448304, 19.980585952503482, 1.18438737247785, 1.1843620154991068, 1.1843753163616073, 1.1844478647772771, 1.1843584068055484, 1.18447126669936, 1.1843971136996825, 1.1844111410450127, 1.184344047150855, 1.1843377735437506, 1.1843491064559586, 1.1843610757544252, 1.184339784138571, 1.1843344210171838, 1.1843376291117826, 1.1843355302557472, 1.1843535600881472, 1.1845935961855785, 1.1843857213722164, 1.184582817499296, 1.1845404760655571, 1.184481357401577, 1.1845538975001215, 1.1845472579869931, 1.18441858388764, 1.184640476324578, 1.1861548034527492, 1.1848346396063227, 1.1849095217484482, 1.1848814296624202, 1.1852657709591734, 1.1849303602009693, 1.1847564024306914, 1.1846321280652263, 3065.490210244446, 551.276501242985, 102.41848178049169, 1.184743696886638, 1.1843675648705432, 1.1843808361800334, 1.1843458901085864, 1.1843420847223594, 1.184363806618538, 1.1844359211267752, 1.184335934040829, 1.184394424763286, 1.1843726077606396, 1.1843307831811636, 1.1843292567374577, 1.1843422300543307, 1.1843412909849993, 1.1843457312169168, 1.1843692148009766, 1.1843279474188584, 1.184350994435354, 1.184347786878813, 1.1843381444122878, 1.1843351585470052, 1.1843618344688345, 1.1843372803524987, 1.1843728667866429, 1.1843584528052618, 1.1843430480006445, 1.1844702503303457, 1.184461660522961, 1.184413381976539, 1.1844875241322885, 1.1843943315631973, 1.184372751165951, 1.1844636345484005, 1.1845557513762015, 1.18441858388764, 1.1844986171047598, 1.1843926601598838, 1.1844852711908715, 1.1844478647772771, 1.1844093215504878, 1.1844377346191413, 1.1844608185032004, 1.1845935961855785, 1.1845698695524531, 1.1849303602009693, 1.184530598869768, 1.1845472579869931, 1.184481357401577, 1.1846321280652263, 1.1844760358344206, 1.184521346390382, 1.184521453141741, 1.1848814296624202, 1.184640476324578, 1.1848801140665142, 1.1861548034527492, 1.1852657709591734, 1.1845341990239249, 1.184582817499296, 1.1848346396063227, 1.1845511246991696, 1.1846423195772369, 1.1847283962433062, 1.1849095217484482, 1673.9051266217605, 540.6909433148273, 511.92727829021544, 318.8901748818169, 147.4910215637683, 46.41397864527426, 1.1849095217484482, 1.1847564024306914, 1.184386853587311, 1.1848346396063227, 1.1843829639762484, 1.1861548034527492, 1.184445128093528, 1.1844098189150205, 1.1844111410450127, 1.1845161645873068, 1.1843609135936495, 1.1843502101316827, 1.1843467484079726, 1.184640476324578, 1.1843426175558347, 1.184341872910035, 1.1843557228955048, 1.184350093058784, 1.1843465230557448, 1.1844201929019222, 1.1843442991913329, 1.1843750286655872, 1.1843568878371145, 1.1845140867137676, 1.1846321280652263, 1.1844518126052854, 1.1852657709591734, 1.1845586696922403, 1.18447126669936, 1.1844500641922162, 1.1845288032415822, 1.1846209801074874, 1.184582817499296, 1.184541067715033, 1.1844986824231802, 1.1849303602009693, 1.184743696886638, 1.1845404760655571, 1.1848801140665142, 1.1845935961855785, 1.1847283962433062, 1.184521346390382, 1.1848814296624202, 1.1845538975001215, 1.1845698695524531, 1.1846423195772369, 953.3529300544942, 638.8148010744641, 341.4600693798357, 117.86098066584911, 21.994825469702498, 2.4069598500272895, 1.1843475594916808, 1.184343361918402, 1.1843873783032262, 1.1843793712787483, 1.1843637696763833, 1.1844134192695004, 1.184424886904055, 1.1843550837195436, 1.1843632111484594, 1.1843892554940174, 1.1843584949852008, 1.184352613139251, 1.1843759695824987, 1.1843333081370253, 1.1843768280373306, 1.1843316819770808, 1.1843543086399284, 1.1843385562023097, 1.1843541199491316, 1.1843566431038601, 1.1843712549399246, 1.1843910651676006, 1.1843564762766776, 1.1843339998765263, 1.1843492616681266, 1.1844594057599234, 1.184416699166621, 1.1843834139464096, 1.184541067715033, 1.1845418335532998, 1.184463916752185, 1.1844760358344206, 1.1844453393721595, 1.184521453141741, 1.1846209801074874, 1.1845698695524531, 1.1846423195772369, 1.1849303602009693, 1.184743696886638, 1.184481758009094, 1.1847283962433062, 1.184530598869768, 1.1848814296624202, 1.1846321280652263, 1.1861548034527492, 1.1845472579869931, 1.1852657709591734, 1.184515902543344, 1.1849095217484482, 1.1848801140665142, 1.1848346396063227, 1.184640476324578, 700.0594513593379, 267.1136658187891, 186.4237248221904, 181.3881330268177, 38.024546599892034, 1.1861548034527492, 1.1849095217484482, 1.1852657709591734, 1.1847564024306914, 1.1848346396063227, 1.1845586696922403, 1.1845140867137676, 1.1845288032415822, 1.184460878780484, 1.1846209801074874, 1.1844500641922162, 1.184401162479601, 1.1844546798852225, 1.1844536141311068, 1.1844380680681488, 1.1845161645873068, 1.1843893100793057, 1.1846423195772369, 1.1843564752265932, 1.184359772258593, 1.184355113575203, 1.1843562884480177, 1.1844292809548531, 1.184515902543344, 1.184361970139001, 1.18447126669936, 1.1844651017228551, 1.184640476324578, 1.184463916752185, 1.1844242284065523], \"Category\": [\"Default\", \"Default\", \"Default\", \"Default\", \"Default\", \"Default\", \"Default\", \"Default\", \"Default\", \"Default\", \"Default\", \"Default\", \"Default\", \"Default\", \"Default\", \"Default\", \"Default\", \"Default\", \"Default\", \"Default\", \"Default\", \"Default\", \"Default\", \"Default\", \"Default\", \"Default\", \"Default\", \"Default\", \"Default\", \"Default\", \"Topic1\", \"Topic1\", \"Topic1\", \"Topic1\", \"Topic1\", \"Topic1\", \"Topic1\", \"Topic1\", \"Topic1\", \"Topic1\", \"Topic1\", \"Topic1\", \"Topic1\", \"Topic1\", \"Topic1\", \"Topic1\", \"Topic1\", \"Topic1\", \"Topic1\", \"Topic1\", \"Topic1\", \"Topic1\", \"Topic1\", \"Topic1\", \"Topic1\", \"Topic1\", \"Topic1\", \"Topic1\", \"Topic1\", \"Topic1\", \"Topic1\", \"Topic1\", \"Topic1\", \"Topic1\", \"Topic1\", \"Topic1\", \"Topic1\", \"Topic2\", \"Topic2\", \"Topic2\", \"Topic2\", \"Topic2\", \"Topic2\", \"Topic2\", \"Topic2\", \"Topic2\", \"Topic2\", \"Topic2\", \"Topic2\", \"Topic2\", \"Topic2\", \"Topic2\", \"Topic2\", \"Topic2\", \"Topic2\", \"Topic2\", \"Topic2\", \"Topic2\", \"Topic2\", \"Topic2\", \"Topic2\", \"Topic2\", \"Topic2\", \"Topic2\", \"Topic2\", \"Topic2\", \"Topic2\", \"Topic2\", \"Topic2\", \"Topic2\", \"Topic2\", \"Topic2\", \"Topic3\", \"Topic3\", \"Topic3\", \"Topic3\", \"Topic3\", \"Topic3\", \"Topic3\", \"Topic3\", \"Topic3\", \"Topic3\", \"Topic3\", \"Topic3\", \"Topic3\", \"Topic3\", \"Topic3\", \"Topic3\", \"Topic3\", \"Topic3\", \"Topic3\", \"Topic3\", \"Topic3\", \"Topic3\", \"Topic3\", \"Topic3\", \"Topic3\", \"Topic3\", \"Topic3\", \"Topic3\", \"Topic3\", \"Topic3\", \"Topic3\", \"Topic3\", \"Topic3\", \"Topic3\", \"Topic3\", \"Topic3\", \"Topic4\", \"Topic4\", \"Topic4\", \"Topic4\", \"Topic4\", \"Topic4\", \"Topic4\", \"Topic4\", \"Topic4\", \"Topic4\", \"Topic4\", \"Topic4\", \"Topic4\", \"Topic4\", \"Topic4\", \"Topic4\", \"Topic4\", \"Topic4\", \"Topic4\", \"Topic4\", \"Topic4\", \"Topic4\", \"Topic4\", \"Topic4\", \"Topic4\", \"Topic4\", \"Topic4\", \"Topic4\", \"Topic4\", \"Topic4\", \"Topic4\", \"Topic4\", \"Topic4\", \"Topic4\", \"Topic5\", \"Topic5\", \"Topic5\", \"Topic5\", \"Topic5\", \"Topic5\", \"Topic5\", \"Topic5\", \"Topic5\", \"Topic5\", \"Topic5\", \"Topic5\", \"Topic5\", \"Topic5\", \"Topic5\", \"Topic5\", \"Topic5\", \"Topic5\", \"Topic5\", \"Topic5\", \"Topic5\", \"Topic5\", \"Topic5\", \"Topic5\", \"Topic5\", \"Topic5\", \"Topic5\", \"Topic5\", \"Topic5\", \"Topic5\", \"Topic5\", \"Topic6\", \"Topic6\", \"Topic6\", \"Topic6\", \"Topic6\", \"Topic6\", \"Topic6\", \"Topic6\", \"Topic6\", \"Topic6\", \"Topic6\", \"Topic6\", \"Topic6\", \"Topic6\", \"Topic6\", \"Topic6\", \"Topic6\", \"Topic6\", \"Topic6\", \"Topic6\", \"Topic6\", \"Topic6\", \"Topic6\", \"Topic6\", \"Topic6\", \"Topic6\", \"Topic6\", \"Topic6\", \"Topic6\", \"Topic6\", \"Topic7\", \"Topic7\", \"Topic7\", \"Topic7\", \"Topic7\", \"Topic7\", \"Topic7\", \"Topic7\", \"Topic7\", \"Topic7\", \"Topic7\", \"Topic7\", \"Topic7\", \"Topic7\", \"Topic7\", \"Topic7\", \"Topic7\", \"Topic7\", \"Topic7\", \"Topic7\", \"Topic7\", \"Topic7\", \"Topic7\", \"Topic7\", \"Topic7\", \"Topic7\", \"Topic7\", \"Topic7\", \"Topic7\", \"Topic7\", \"Topic7\", \"Topic7\", \"Topic8\", \"Topic8\", \"Topic8\", \"Topic8\", \"Topic8\", \"Topic8\", \"Topic8\", \"Topic8\", \"Topic8\", \"Topic8\", \"Topic8\", \"Topic8\", \"Topic8\", \"Topic8\", \"Topic8\", \"Topic8\", \"Topic8\", \"Topic8\", \"Topic8\", \"Topic8\", \"Topic8\", \"Topic8\", \"Topic8\", \"Topic8\", \"Topic8\", \"Topic8\", \"Topic8\", \"Topic8\", \"Topic8\", \"Topic8\", \"Topic9\", \"Topic9\", \"Topic9\", \"Topic9\", \"Topic9\", \"Topic9\", \"Topic9\", \"Topic9\", \"Topic9\", \"Topic9\", \"Topic9\", \"Topic9\", \"Topic9\", \"Topic9\", \"Topic9\", \"Topic9\", \"Topic9\", \"Topic9\", \"Topic9\", \"Topic9\", \"Topic9\", \"Topic9\", \"Topic9\", \"Topic9\", \"Topic9\", \"Topic9\", \"Topic9\", \"Topic9\", \"Topic9\", \"Topic9\", \"Topic9\", \"Topic10\", \"Topic10\", \"Topic10\", \"Topic10\", \"Topic10\", \"Topic10\", \"Topic10\", \"Topic10\", \"Topic10\", \"Topic10\", \"Topic10\", \"Topic10\", \"Topic10\", \"Topic10\", \"Topic10\", \"Topic10\", \"Topic10\", \"Topic10\", \"Topic10\", \"Topic10\", \"Topic10\", \"Topic10\", \"Topic10\", \"Topic10\", \"Topic10\", \"Topic10\", \"Topic10\", \"Topic10\", \"Topic10\", \"Topic10\", \"Topic10\", \"Topic10\", \"Topic10\", \"Topic10\", \"Topic10\", \"Topic10\", \"Topic10\", \"Topic10\", \"Topic10\", \"Topic10\", \"Topic10\", \"Topic10\", \"Topic10\", \"Topic10\", \"Topic10\", \"Topic10\", \"Topic10\", \"Topic10\", \"Topic11\", \"Topic11\", \"Topic11\", \"Topic11\", \"Topic11\", \"Topic11\", \"Topic11\", \"Topic11\", \"Topic11\", \"Topic11\", \"Topic11\", \"Topic11\", \"Topic11\", \"Topic11\", \"Topic11\", \"Topic11\", \"Topic11\", \"Topic11\", \"Topic11\", \"Topic11\", \"Topic11\", \"Topic11\", \"Topic11\", \"Topic11\", \"Topic11\", \"Topic11\", \"Topic11\", \"Topic11\", \"Topic11\", \"Topic11\", \"Topic11\", \"Topic11\", \"Topic11\", \"Topic11\", \"Topic11\", \"Topic12\", \"Topic12\", \"Topic12\", \"Topic12\", \"Topic12\", \"Topic12\", \"Topic12\", \"Topic12\", \"Topic12\", \"Topic12\", \"Topic12\", \"Topic12\", \"Topic12\", \"Topic12\", \"Topic12\", \"Topic12\", \"Topic12\", \"Topic12\", \"Topic12\", \"Topic12\", \"Topic12\", \"Topic12\", \"Topic12\", \"Topic12\", \"Topic12\", \"Topic12\", \"Topic12\", \"Topic12\", \"Topic12\", \"Topic12\", \"Topic12\", \"Topic12\", \"Topic12\", \"Topic12\", \"Topic12\", \"Topic12\", \"Topic12\", \"Topic12\", \"Topic12\", \"Topic12\", \"Topic12\", \"Topic12\", \"Topic12\", \"Topic12\", \"Topic12\", \"Topic12\", \"Topic12\", \"Topic12\", \"Topic12\", \"Topic13\", \"Topic13\", \"Topic13\", \"Topic13\", \"Topic13\", \"Topic13\", \"Topic13\", \"Topic13\", \"Topic13\", \"Topic13\", \"Topic13\", \"Topic13\", \"Topic13\", \"Topic13\", \"Topic13\", \"Topic13\", \"Topic13\", \"Topic13\", \"Topic13\", \"Topic13\", \"Topic13\", \"Topic13\", \"Topic13\", \"Topic13\", \"Topic13\", \"Topic13\", \"Topic13\", \"Topic13\", \"Topic13\", \"Topic13\", \"Topic13\", \"Topic13\", \"Topic13\", \"Topic13\", \"Topic13\", \"Topic13\", \"Topic13\", \"Topic13\", \"Topic13\", \"Topic13\", \"Topic13\", \"Topic13\", \"Topic13\", \"Topic13\", \"Topic13\", \"Topic13\", \"Topic13\", \"Topic13\", \"Topic14\", \"Topic14\", \"Topic14\", \"Topic14\", \"Topic14\", \"Topic14\", \"Topic14\", \"Topic14\", \"Topic14\", \"Topic14\", \"Topic14\", \"Topic14\", \"Topic14\", \"Topic14\", \"Topic14\", \"Topic14\", \"Topic14\", \"Topic14\", \"Topic14\", \"Topic14\", \"Topic14\", \"Topic14\", \"Topic14\", \"Topic14\", \"Topic14\", \"Topic14\", \"Topic14\", \"Topic14\", \"Topic14\", \"Topic14\", \"Topic14\", \"Topic14\", \"Topic14\", \"Topic14\", \"Topic14\", \"Topic14\", \"Topic14\", \"Topic14\", \"Topic14\", \"Topic14\", \"Topic14\", \"Topic14\", \"Topic14\", \"Topic14\", \"Topic14\", \"Topic14\", \"Topic14\", \"Topic15\", \"Topic15\", \"Topic15\", \"Topic15\", \"Topic15\", \"Topic15\", \"Topic15\", \"Topic15\", \"Topic15\", \"Topic15\", \"Topic15\", \"Topic15\", \"Topic15\", \"Topic15\", \"Topic15\", \"Topic15\", \"Topic15\", \"Topic15\", \"Topic15\", \"Topic15\", \"Topic15\", \"Topic15\", \"Topic15\", \"Topic15\", \"Topic15\", \"Topic15\", \"Topic15\", \"Topic15\", \"Topic15\", \"Topic15\", \"Topic15\", \"Topic15\", \"Topic15\", \"Topic15\", \"Topic15\", \"Topic15\", \"Topic16\", \"Topic16\", \"Topic16\", \"Topic16\", \"Topic16\", \"Topic16\", \"Topic16\", \"Topic16\", \"Topic16\", \"Topic16\", \"Topic16\", \"Topic16\", \"Topic16\", \"Topic16\", \"Topic16\", \"Topic16\", \"Topic16\", \"Topic16\", \"Topic16\", \"Topic16\", \"Topic16\", \"Topic16\", \"Topic16\", \"Topic16\", \"Topic16\", \"Topic16\", \"Topic16\", \"Topic16\", \"Topic16\", \"Topic16\", \"Topic16\", \"Topic16\", \"Topic16\", \"Topic16\", \"Topic16\", \"Topic16\", \"Topic16\", \"Topic16\", \"Topic16\", \"Topic16\", \"Topic16\", \"Topic16\", \"Topic16\", \"Topic16\", \"Topic16\", \"Topic16\", \"Topic16\", \"Topic16\", \"Topic17\", \"Topic17\", \"Topic17\", \"Topic17\", \"Topic17\", \"Topic17\", \"Topic17\", \"Topic17\", \"Topic17\", \"Topic17\", \"Topic17\", \"Topic17\", \"Topic17\", \"Topic17\", \"Topic17\", \"Topic17\", \"Topic17\", \"Topic17\", \"Topic17\", \"Topic17\", \"Topic17\", \"Topic17\", \"Topic17\", \"Topic17\", \"Topic17\", \"Topic17\", \"Topic17\", \"Topic17\", \"Topic17\", \"Topic17\", \"Topic17\", \"Topic17\", \"Topic17\", \"Topic17\", \"Topic17\", \"Topic17\", \"Topic17\", \"Topic17\", \"Topic17\", \"Topic17\", \"Topic17\", \"Topic17\", \"Topic17\", \"Topic17\", \"Topic17\", \"Topic17\", \"Topic17\", \"Topic17\", \"Topic17\", \"Topic17\", \"Topic17\", \"Topic17\", \"Topic17\", \"Topic17\", \"Topic17\", \"Topic17\", \"Topic17\", \"Topic17\", \"Topic17\", \"Topic17\", \"Topic17\", \"Topic17\", \"Topic17\", \"Topic17\", \"Topic17\", \"Topic17\", \"Topic17\", \"Topic18\", \"Topic18\", \"Topic18\", \"Topic18\", \"Topic18\", \"Topic18\", \"Topic18\", \"Topic18\", \"Topic18\", \"Topic18\", \"Topic18\", \"Topic18\", \"Topic18\", \"Topic18\", \"Topic18\", \"Topic18\", \"Topic18\", \"Topic18\", \"Topic18\", \"Topic18\", \"Topic18\", \"Topic18\", \"Topic18\", \"Topic18\", \"Topic18\", \"Topic18\", \"Topic18\", \"Topic18\", \"Topic18\", \"Topic18\", \"Topic18\", \"Topic18\", \"Topic18\", \"Topic18\", \"Topic18\", \"Topic18\", \"Topic18\", \"Topic18\", \"Topic18\", \"Topic18\", \"Topic18\", \"Topic18\", \"Topic18\", \"Topic18\", \"Topic18\", \"Topic18\", \"Topic18\", \"Topic18\", \"Topic18\", \"Topic18\", \"Topic18\", \"Topic18\", \"Topic19\", \"Topic19\", \"Topic19\", \"Topic19\", \"Topic19\", \"Topic19\", \"Topic19\", \"Topic19\", \"Topic19\", \"Topic19\", \"Topic19\", \"Topic19\", \"Topic19\", \"Topic19\", \"Topic19\", \"Topic19\", \"Topic19\", \"Topic19\", \"Topic19\", \"Topic19\", \"Topic19\", \"Topic19\", \"Topic19\", \"Topic19\", \"Topic19\", \"Topic19\", \"Topic19\", \"Topic19\", \"Topic19\", \"Topic19\", \"Topic19\", \"Topic19\", \"Topic19\", \"Topic19\", \"Topic19\", \"Topic19\", \"Topic19\", \"Topic19\", \"Topic19\", \"Topic19\", \"Topic19\", \"Topic19\", \"Topic19\", \"Topic19\", \"Topic19\", \"Topic19\", \"Topic19\", \"Topic19\", \"Topic19\", \"Topic19\", \"Topic19\", \"Topic19\", \"Topic19\", \"Topic19\", \"Topic19\", \"Topic19\", \"Topic19\", \"Topic19\", \"Topic20\", \"Topic20\", \"Topic20\", \"Topic20\", \"Topic20\", \"Topic20\", \"Topic20\", \"Topic20\", \"Topic20\", \"Topic20\", \"Topic20\", \"Topic20\", \"Topic20\", \"Topic20\", \"Topic20\", \"Topic20\", \"Topic20\", \"Topic20\", \"Topic20\", \"Topic20\", \"Topic20\", \"Topic20\", \"Topic20\", \"Topic20\", \"Topic20\", \"Topic20\", \"Topic20\", \"Topic20\", \"Topic20\", \"Topic20\", \"Topic20\", \"Topic20\", \"Topic20\", \"Topic20\", \"Topic20\"], \"logprob\": [30.0, 29.0, 28.0, 27.0, 26.0, 25.0, 24.0, 23.0, 22.0, 21.0, 20.0, 19.0, 18.0, 17.0, 16.0, 15.0, 14.0, 13.0, 12.0, 11.0, 10.0, 9.0, 8.0, 7.0, 6.0, 5.0, 4.0, 3.0, 2.0, 1.0, -3.2527, -3.313, -3.9151, -3.9189, -3.9435, -4.0001, -4.0003, -4.0484, -4.1169, -4.2906, -4.3337, -4.3496, -4.3623, -4.3695, -3.2939, -4.44, -4.4461, -4.482, -4.5425, -4.5497, -4.5643, -4.665, -4.6659, -4.6824, -4.6922, -4.7082, -4.7283, -4.8087, -4.8252, -4.8326, -3.6052, -4.7179, -4.3248, -3.9571, -4.4998, -4.6384, -4.2282, -2.5382, -2.8513, -2.9264, -3.0093, -3.2928, -3.3276, -3.3811, -3.5287, -3.5374, -3.6415, -3.8562, -3.9715, -4.082, -4.195, -4.2598, -4.436, -4.4497, -4.6657, -4.7102, -4.7526, -4.8326, -4.8643, -4.9207, -4.9239, -4.9466, -4.9664, -4.9924, -5.03, -5.039, -5.0736, -3.7772, -2.1097, -3.1415, -3.939, -4.7968, -2.3294, -2.4598, -2.5662, -2.767, -2.8934, -3.1251, -3.3731, -3.4347, -3.6493, -3.9268, -3.9378, -3.9929, -4.1067, -4.1191, -4.1217, -4.1679, -4.2712, -4.3374, -4.3678, -4.3691, -4.3733, -4.4067, -5.0108, -5.0178, -5.1886, -5.5116, -5.7178, -5.8016, -5.8797, -6.0602, -2.9699, -3.8861, -2.9797, -2.6511, -4.4645, -3.8347, -3.0045, -3.1034, -3.1334, -3.1545, -3.1942, -3.2779, -3.363, -3.3685, -3.5364, -3.7008, -3.7515, -3.7642, -3.768, -3.866, -3.8788, -3.9237, -3.9346, -4.0194, -4.2226, -4.2332, -4.3125, -4.3388, -4.3493, -4.4346, -4.5735, -4.5795, -4.6429, -4.663, -4.7527, -4.7539, -3.3465, -3.6359, -3.2911, -4.2131, -2.5345, -2.7302, -2.8559, -2.8653, -2.9779, -2.9896, -3.1879, -3.2076, -3.2149, -3.437, -3.4692, -3.5977, -3.649, -3.9208, -3.9403, -4.0046, -4.0113, -4.0967, -4.1363, -4.2416, -4.3197, -4.3564, -4.3568, -4.3759, -4.5168, -4.6056, -4.6107, -4.6291, -4.7189, -4.7283, -4.2057, -2.4025, -2.4045, -2.9428, -3.0303, -3.069, -3.0981, -3.1897, -3.2026, -3.2335, -3.3172, -3.3779, -3.4698, -3.5272, -3.6141, -3.664, -3.7214, -3.7679, -3.7846, -3.8724, -3.9977, -4.0853, -4.1031, -4.3508, -4.4809, -4.5705, -4.7431, -4.7705, -4.7811, -4.7867, -4.8094, -1.7576, -2.2676, -2.3069, -2.563, -2.725, -2.7332, -2.9686, -3.3371, -3.7747, -3.8638, -3.8871, -4.0168, -4.0282, -4.1, -4.163, -4.2237, -4.3294, -4.3449, -4.4167, -4.4498, -4.5355, -4.565, -4.8534, -5.0092, -5.0714, -5.1581, -5.1828, -5.2003, -5.5299, -5.6101, -4.2849, -4.295, -2.4719, -2.479, -2.6032, -2.81, -2.9221, -3.2074, -3.22, -3.3287, -3.3545, -3.3739, -3.4014, -3.4186, -3.4448, -3.4828, -3.4953, -3.5234, -3.5385, -3.5762, -3.593, -3.661, -3.8722, -4.1602, -4.2065, -4.2262, -4.4702, -4.5024, -4.6778, -4.7287, -4.8581, -5.3529, -1.6086, -2.1604, -2.5346, -2.5748, -2.6283, -2.6902, -3.259, -3.3183, -3.3779, -3.3849, -3.5236, -3.5343, -3.6805, -3.8259, -3.8739, -4.1868, -4.3067, -4.564, -4.664, -4.8215, -4.9934, -5.0875, -5.763, -6.5411, -6.5617, -11.7566, -11.7584, -11.7588, -11.759, -11.7592, -11.7591, -0.8583, -1.5399, -2.7099, -3.0141, -3.049, -3.4149, -3.5404, -3.7775, -3.9138, -4.1574, -4.4129, -4.9492, -11.476, -11.4761, -11.4761, -11.4761, -11.476, -11.4761, -11.4761, -11.4761, -11.4761, -11.476, -11.4761, -11.4761, -11.4761, -11.476, -11.4761, -11.476, -11.4761, -11.476, -11.4761, -11.4761, -11.4757, -11.4761, -11.476, -11.4759, -11.476, -11.476, -11.4758, -11.476, -11.4759, -11.4754, -11.476, -11.476, -11.4759, -11.476, -11.476, -11.476, -2.1118, -2.304, -2.4458, -2.4992, -2.7347, -2.8179, -2.8193, -2.9774, -2.9915, -3.0506, -3.2801, -3.683, -3.6909, -3.7474, -3.9779, -4.106, -4.1915, -4.3341, -4.3665, -4.7061, -4.8703, -5.1235, -5.363, -5.899, -6.708, -11.4782, -11.4784, -11.4785, -11.4786, -11.4786, -11.4782, -11.478, -11.4774, -11.4783, -11.4783, -0.8866, -1.8999, -2.141, -2.1814, -2.7084, -3.0719, -3.3553, -11.4596, -11.4596, -11.46, -11.4602, -11.4601, -11.4599, -11.4599, -11.4601, -11.4602, -11.4601, -11.4601, -11.4602, -11.4602, -11.4602, -11.4602, -11.4601, -11.4602, -11.4602, -11.4601, -11.4601, -11.4602, -11.4601, -11.4602, -11.46, -11.4601, -11.4601, -11.4601, -11.4595, -11.46, -11.4598, -11.4599, -11.4601, -11.4591, -11.4599, -11.46, -11.4599, -11.46, -11.4601, -11.4601, -11.4601, -11.4601, -11.4601, -0.7871, -2.2283, -2.4358, -2.7416, -2.844, -3.2306, -3.3236, -3.6014, -3.6461, -4.0029, -5.1307, -11.2533, -11.2533, -11.2533, -11.2534, -11.2533, -11.2534, -11.2534, -11.2534, -11.2535, -11.2534, -11.2533, -11.2535, -11.2534, -11.2535, -11.2534, -11.2535, -11.2534, -11.2535, -11.2535, -11.2535, -11.2533, -11.2533, -11.2534, -11.2534, -11.2534, -11.2534, -11.2533, -11.2534, -11.2533, -11.2534, -11.2533, -11.2533, -11.2532, -11.2531, -11.2534, -11.2534, -11.2534, -1.8065, -2.1516, -2.361, -2.6114, -2.6216, -2.6785, -2.681, -2.7194, -2.9253, -2.9864, -3.1049, -3.3931, -3.6796, -5.4612, -11.397, -11.397, -11.3969, -11.397, -11.3969, -11.3968, -11.3971, -11.397, -11.397, -11.397, -11.3969, -11.3971, -11.397, -11.3971, -11.397, -11.3971, -11.3969, -11.3968, -11.397, -11.397, -11.3968, -11.3967, -11.3968, -11.3964, -11.3967, -11.3967, -11.3958, -11.3969, -11.3967, -11.3969, -11.3968, -11.3968, -11.3969, -2.01, -2.1759, -2.7108, -2.7328, -2.836, -3.017, -3.0277, -3.2122, -3.3135, -3.3496, -3.3968, -3.4484, -3.4592, -3.4757, -3.6358, -3.7221, -3.8239, -3.8825, -4.1464, -4.1593, -4.7556, -4.7889, -5.1888, -6.158, -6.7152, -11.2316, -11.2317, -11.2313, -11.2318, -11.2317, -11.2313, -11.2315, -11.2315, -11.2305, -11.2312, -11.2314, -0.7958, -2.0228, -2.7013, -2.9427, -2.9755, -2.9854, -3.3071, -3.7431, -3.7846, -3.7951, -4.4501, -4.5479, -4.9666, -5.5407, -11.5211, -11.5212, -11.5212, -11.5211, -11.5212, -11.5211, -11.5212, -11.5212, -11.5212, -11.5212, -11.5212, -11.5212, -11.5212, -11.5212, -11.5212, -11.5212, -11.5212, -11.5211, -11.5212, -11.5211, -11.5211, -11.5212, -11.5211, -11.5211, -11.5212, -11.5211, -11.5205, -11.521, -11.521, -11.521, -11.5209, -11.521, -11.5211, -11.5211, -0.2871, -2.0045, -3.6966, -11.0559, -11.0563, -11.0563, -11.0564, -11.0564, -11.0564, -11.0563, -11.0564, -11.0563, -11.0564, -11.0564, -11.0564, -11.0564, -11.0564, -11.0564, -11.0564, -11.0564, -11.0564, -11.0564, -11.0564, -11.0564, -11.0564, -11.0564, -11.0564, -11.0564, -11.0564, -11.0563, -11.0563, -11.0563, -11.0563, -11.0564, -11.0564, -11.0563, -11.0562, -11.0563, -11.0563, -11.0564, -11.0563, -11.0563, -11.0564, -11.0563, -11.0563, -11.0562, -11.0563, -11.0561, -11.0563, -11.0563, -11.0563, -11.0562, -11.0563, -11.0563, -11.0563, -11.0561, -11.0563, -11.0562, -11.0558, -11.0561, -11.0563, -11.0563, -11.0563, -11.0563, -11.0563, -11.0563, -11.0563, -0.7505, -1.882, -1.9368, -2.4114, -3.1866, -4.3598, -11.0825, -11.0827, -11.083, -11.0826, -11.083, -11.0815, -11.083, -11.083, -11.083, -11.0829, -11.083, -11.0831, -11.0831, -11.0828, -11.0831, -11.0831, -11.0831, -11.0831, -11.0831, -11.083, -11.0831, -11.083, -11.0831, -11.0829, -11.0828, -11.083, -11.0824, -11.0829, -11.083, -11.083, -11.0829, -11.0829, -11.0829, -11.0829, -11.083, -11.0828, -11.0829, -11.083, -11.0828, -11.0829, -11.0829, -11.083, -11.0829, -11.083, -11.083, -11.0829, -0.9151, -1.3161, -1.944, -3.0141, -4.7359, -7.5296, -10.6898, -10.6899, -10.6898, -10.6898, -10.6898, -10.6898, -10.6898, -10.6899, -10.6898, -10.6898, -10.6899, -10.6899, -10.6898, -10.6899, -10.6898, -10.6899, -10.6899, -10.6899, -10.6899, -10.6899, -10.6899, -10.6898, -10.6899, -10.6899, -10.6899, -10.6898, -10.6898, -10.6898, -10.6897, -10.6897, -10.6898, -10.6898, -10.6898, -10.6898, -10.6897, -10.6897, -10.6897, -10.6896, -10.6897, -10.6898, -10.6897, -10.6898, -10.6896, -10.6897, -10.6892, -10.6898, -10.6895, -10.6898, -10.6897, -10.6897, -10.6898, -10.6898, -0.837, -1.8031, -2.1646, -2.1922, -3.7787, -10.5213, -10.5247, -10.5245, -10.525, -10.525, -10.526, -10.5262, -10.5262, -10.5263, -10.5261, -10.5263, -10.5264, -10.5263, -10.5264, -10.5264, -10.5263, -10.5264, -10.5262, -10.5265, -10.5265, -10.5265, -10.5265, -10.5265, -10.5264, -10.5265, -10.5265, -10.5265, -10.5264, -10.5265, -10.5265], \"loglift\": [30.0, 29.0, 28.0, 27.0, 26.0, 25.0, 24.0, 23.0, 22.0, 21.0, 20.0, 19.0, 18.0, 17.0, 16.0, 15.0, 14.0, 13.0, 12.0, 11.0, 10.0, 9.0, 8.0, 7.0, 6.0, 5.0, 4.0, 3.0, 2.0, 1.0, 1.0022, 1.0022, 1.0021, 1.0021, 1.0021, 1.002, 1.002, 1.002, 1.002, 1.0019, 1.0019, 1.0019, 1.0019, 1.0019, 1.0019, 1.0019, 1.0018, 1.0018, 1.0018, 1.0018, 1.0018, 1.0017, 1.0017, 1.0017, 1.0017, 1.0017, 1.0017, 1.0016, 1.0016, 1.0016, 1.0007, 0.9957, 0.9559, 0.8943, 0.9291, 0.9324, 0.4274, 1.9174, 1.9173, 1.9173, 1.9173, 1.9172, 1.9171, 1.9171, 1.9171, 1.917, 1.917, 1.9169, 1.9168, 1.9167, 1.9166, 1.9165, 1.9163, 1.9163, 1.916, 1.9159, 1.9158, 1.9157, 1.9156, 1.9155, 1.9155, 1.9155, 1.9154, 1.9154, 1.9153, 1.9153, 1.9152, 1.9072, 1.8509, 1.8706, 1.4441, 1.4746, 1.9269, 1.9269, 1.9269, 1.9269, 1.9268, 1.9268, 1.9267, 1.9266, 1.9265, 1.9263, 1.9263, 1.9263, 1.9262, 1.9262, 1.9262, 1.9261, 1.926, 1.9259, 1.9259, 1.9259, 1.9259, 1.9259, 1.9248, 1.9248, 1.9244, 1.9234, 1.9225, 1.9221, 1.9217, 1.9206, 1.9114, 1.9014, 1.8348, 1.7708, 1.6548, 0.8209, 2.3618, 2.3617, 2.3617, 2.3617, 2.3617, 2.3616, 2.3616, 2.3616, 2.3614, 2.3613, 2.3613, 2.3612, 2.3612, 2.3611, 2.3611, 2.3611, 2.3611, 2.3609, 2.3607, 2.3606, 2.3605, 2.3605, 2.3604, 2.3603, 2.36, 2.36, 2.3598, 2.3598, 2.3595, 2.3595, 2.3233, 2.3275, 2.3043, 2.3107, 2.9388, 2.9386, 2.9386, 2.9386, 2.9385, 2.9385, 2.9383, 2.9383, 2.9382, 2.938, 2.9379, 2.9378, 2.9377, 2.9372, 2.9371, 2.937, 2.937, 2.9368, 2.9367, 2.9364, 2.9362, 2.936, 2.936, 2.936, 2.9355, 2.9351, 2.9351, 2.935, 2.9346, 2.9346, 2.5643, 3.2943, 3.2943, 3.2938, 3.2937, 3.2936, 3.2936, 3.2935, 3.2935, 3.2934, 3.2933, 3.2932, 3.293, 3.2929, 3.2927, 3.2926, 3.2925, 3.2923, 3.2923, 3.2921, 3.2917, 3.2914, 3.2913, 3.2903, 3.2897, 3.2892, 3.2881, 3.2879, 3.2878, 3.2878, 3.2876, 3.5454, 3.5452, 3.5451, 3.5449, 3.5447, 3.5447, 3.5444, 3.5437, 3.5426, 3.5423, 3.5422, 3.5417, 3.5416, 3.5413, 3.541, 3.5407, 3.5401, 3.54, 3.5396, 3.5394, 3.5388, 3.5386, 3.5361, 3.5345, 3.5338, 3.5327, 3.5324, 3.5321, 3.5268, 3.5252, 3.517, 3.1285, 4.0382, 4.0381, 4.038, 4.0376, 4.0373, 4.0365, 4.0365, 4.0361, 4.0361, 4.036, 4.0359, 4.0358, 4.0357, 4.0356, 4.0355, 4.0354, 4.0353, 4.0352, 4.0351, 4.0348, 4.0336, 4.0316, 4.0312, 4.0311, 4.0287, 4.0284, 4.0262, 4.0255, 4.0236, 4.0134, 4.3888, 4.3882, 4.3875, 4.3874, 4.3872, 4.3871, 4.3851, 4.3848, 4.3845, 4.3844, 4.3836, 4.3836, 4.3826, 4.3815, 4.3811, 4.378, 4.3765, 4.3726, 4.3708, 4.3676, 4.3635, 4.361, 4.334, 4.2722, 4.2699, 1.2116, 1.2105, 1.2104, 1.2103, 1.2103, 1.2103, 4.435, 4.4346, 4.4327, 4.4317, 4.4315, 4.4298, 4.4291, 4.4273, 4.4262, 4.4236, 4.4202, 4.4095, 1.4936, 1.4936, 1.4936, 1.4936, 1.4936, 1.4936, 1.4936, 1.4936, 1.4936, 1.4936, 1.4935, 1.4935, 1.4935, 1.4935, 1.4935, 1.4935, 1.4935, 1.4935, 1.4935, 1.4935, 1.4935, 1.4935, 1.4935, 1.4935, 1.4935, 1.4935, 1.4934, 1.4935, 1.4934, 1.4928, 1.4935, 1.4935, 1.493, 1.4933, 1.4932, 1.4933, 4.4794, 4.4791, 4.4788, 4.4787, 4.478, 4.4778, 4.4778, 4.4772, 4.4771, 4.4769, 4.4758, 4.4733, 4.4732, 4.4728, 4.4706, 4.4692, 4.4682, 4.4662, 4.4658, 4.4596, 4.4559, 4.4487, 4.4402, 4.4122, 4.3326, 1.4912, 1.4912, 1.4911, 1.4911, 1.4911, 1.491, 1.4909, 1.4907, 1.4909, 1.4909, 4.5173, 4.5165, 4.5161, 4.516, 4.5148, 4.5134, 4.512, 1.5096, 1.5096, 1.5095, 1.5095, 1.5095, 1.5095, 1.5095, 1.5095, 1.5095, 1.5095, 1.5095, 1.5095, 1.5095, 1.5095, 1.5095, 1.5095, 1.5095, 1.5095, 1.5095, 1.5095, 1.5095, 1.5095, 1.5095, 1.5095, 1.5095, 1.5095, 1.5095, 1.5094, 1.5095, 1.5094, 1.5094, 1.5095, 1.5091, 1.5094, 1.5094, 1.5093, 1.5094, 1.5094, 1.5094, 1.5094, 1.5094, 1.5094, 4.5357, 4.5343, 4.5338, 4.533, 4.5326, 4.531, 4.5305, 4.5287, 4.5283, 4.525, 4.5021, 1.7163, 1.7163, 1.7163, 1.7162, 1.7162, 1.7162, 1.7162, 1.7162, 1.7162, 1.7162, 1.7162, 1.7162, 1.7162, 1.7162, 1.7162, 1.7162, 1.7162, 1.7162, 1.7162, 1.7162, 1.7162, 1.7162, 1.7162, 1.7162, 1.7162, 1.7162, 1.7161, 1.7162, 1.716, 1.7161, 1.7159, 1.7159, 1.7157, 1.7151, 1.716, 1.7161, 1.716, 4.5565, 4.556, 4.5556, 4.5549, 4.5549, 4.5547, 4.5547, 4.5546, 4.5539, 4.5536, 4.5531, 4.5515, 4.5495, 4.5093, 1.5726, 1.5726, 1.5726, 1.5726, 1.5726, 1.5726, 1.5726, 1.5726, 1.5726, 1.5726, 1.5726, 1.5726, 1.5726, 1.5726, 1.5726, 1.5726, 1.5726, 1.5726, 1.5726, 1.5726, 1.5726, 1.5726, 1.5726, 1.5725, 1.5726, 1.5725, 1.5723, 1.5726, 1.5725, 1.5726, 1.5725, 1.5725, 1.5725, 4.6203, 4.62, 4.6186, 4.6185, 4.6182, 4.6174, 4.6174, 4.6164, 4.6158, 4.6156, 4.6153, 4.615, 4.6149, 4.6148, 4.6135, 4.6128, 4.6118, 4.6112, 4.6079, 4.6077, 4.5963, 4.5954, 4.5827, 4.5215, 4.4526, 1.7379, 1.7379, 1.7379, 1.7379, 1.7379, 1.7379, 1.7379, 1.7379, 1.7376, 1.7378, 1.7378, 4.6615, 4.6602, 4.6585, 4.6575, 4.6573, 4.6573, 4.6555, 4.652, 4.6516, 4.6515, 4.6419, 4.6399, 4.6286, 4.6034, 1.4486, 1.4485, 1.4485, 1.4485, 1.4485, 1.4485, 1.4485, 1.4485, 1.4485, 1.4485, 1.4485, 1.4485, 1.4485, 1.4485, 1.4485, 1.4485, 1.4485, 1.4484, 1.4484, 1.4484, 1.4484, 1.4484, 1.4484, 1.4484, 1.4484, 1.4483, 1.4476, 1.4482, 1.4482, 1.4482, 1.448, 1.4482, 1.4483, 1.4483, 4.8238, 4.8221, 4.8132, 1.9134, 1.9133, 1.9133, 1.9133, 1.9133, 1.9133, 1.9133, 1.9133, 1.9133, 1.9133, 1.9133, 1.9133, 1.9133, 1.9133, 1.9133, 1.9133, 1.9133, 1.9133, 1.9133, 1.9133, 1.9133, 1.9133, 1.9133, 1.9133, 1.9133, 1.9133, 1.9133, 1.9133, 1.9133, 1.9133, 1.9133, 1.9133, 1.9133, 1.9133, 1.9133, 1.9133, 1.9133, 1.9133, 1.9133, 1.9133, 1.9133, 1.9133, 1.9132, 1.9132, 1.9131, 1.9133, 1.9132, 1.9133, 1.9132, 1.9133, 1.9132, 1.9132, 1.9131, 1.9132, 1.913, 1.9124, 1.9128, 1.9132, 1.9132, 1.913, 1.9132, 1.9131, 1.9131, 1.9129, 4.9655, 4.9641, 4.9639, 4.9626, 4.9585, 4.9415, 1.8867, 1.8867, 1.8867, 1.8867, 1.8867, 1.8867, 1.8867, 1.8867, 1.8866, 1.8866, 1.8866, 1.8866, 1.8866, 1.8866, 1.8866, 1.8866, 1.8866, 1.8866, 1.8866, 1.8866, 1.8866, 1.8866, 1.8866, 1.8866, 1.8866, 1.8866, 1.8865, 1.8866, 1.8866, 1.8866, 1.8866, 1.8866, 1.8866, 1.8866, 1.8866, 1.8864, 1.8865, 1.8866, 1.8864, 1.8866, 1.8865, 1.8866, 1.8864, 1.8866, 1.8866, 1.8865, 5.3638, 5.3632, 5.3616, 5.3553, 5.3122, 4.7309, 2.2798, 2.2798, 2.2798, 2.2798, 2.2798, 2.2798, 2.2798, 2.2798, 2.2798, 2.2798, 2.2798, 2.2798, 2.2798, 2.2798, 2.2798, 2.2798, 2.2798, 2.2798, 2.2798, 2.2798, 2.2798, 2.2798, 2.2798, 2.2798, 2.2798, 2.2798, 2.2798, 2.2798, 2.2798, 2.2798, 2.2798, 2.2798, 2.2798, 2.2798, 2.2798, 2.2798, 2.2797, 2.2796, 2.2797, 2.2798, 2.2797, 2.2798, 2.2796, 2.2797, 2.279, 2.2797, 2.2794, 2.2798, 2.2795, 2.2795, 2.2795, 2.2797, 5.7508, 5.7481, 5.7462, 5.7461, 5.7219, 2.4469, 2.4446, 2.4444, 2.4444, 2.4443, 2.4435, 2.4434, 2.4433, 2.4433, 2.4433, 2.4433, 2.4433, 2.4433, 2.4432, 2.4432, 2.4432, 2.4432, 2.4432, 2.4432, 2.4432, 2.4432, 2.4432, 2.4432, 2.4432, 2.4431, 2.4431, 2.4431, 2.443, 2.4431, 2.4431]}, \"token.table\": {\"Topic\": [1, 7, 2, 3, 7, 4, 5, 15, 8, 11, 16, 13, 5, 4, 14, 1, 2, 7, 8, 5, 2, 7, 3, 4, 6, 10, 8, 3, 13, 5, 2, 18, 15, 1, 4, 7, 15, 9, 6, 8, 1, 2, 8, 2, 15, 2, 1, 2, 15, 7, 9, 3, 1, 3, 15, 1, 8, 9, 2, 5, 2, 9, 8, 1, 3, 20, 8, 9, 4, 1, 2, 7, 15, 10, 11, 16, 5, 10, 11, 9, 9, 8, 4, 5, 7, 9, 3, 1, 6, 4, 4, 5, 11, 4, 8, 16, 10, 9, 4, 8, 6, 10, 6, 6, 8, 8, 5, 3, 7, 6, 9, 14, 9, 4, 1, 7, 11, 3, 13, 5, 19, 7, 5, 1, 2, 14, 14, 6, 10, 16, 18, 4, 1, 8, 1, 1, 8, 6, 11, 4, 12, 6, 16, 5, 1, 7, 16, 7, 1, 1, 16, 1, 1, 3, 3, 19, 5, 1, 2, 3, 19, 2, 2, 20, 9, 5, 4, 7, 15, 8, 12, 10, 1, 3, 10, 3, 18, 5, 9, 16, 7, 17, 2, 9, 13, 5, 4, 3, 4, 9, 1, 4, 1, 3, 13, 5, 2, 3, 2, 1, 2, 20, 14, 3, 3, 14, 4, 7, 15, 4, 2, 8, 19, 1, 4, 16, 1, 14, 9, 7, 2, 1, 7, 13, 3, 3, 6, 15, 1, 2, 15, 1, 2, 4, 2, 10, 11, 19, 13, 5, 11, 4, 6, 4, 16, 14, 8, 8, 1, 7, 4, 15, 7, 1, 2, 3, 4, 11, 3, 11, 2, 9, 3, 15, 8, 1, 15, 2, 16, 15, 18, 5, 13, 8, 6, 1, 4, 9, 15, 5, 3, 7, 6, 7, 9, 11, 10, 4, 11, 6, 18, 2, 7, 8, 9, 16, 15, 9, 15, 3, 4, 1, 1, 6, 2, 4, 7, 3, 8, 7, 1, 3, 15, 5, 8, 8, 1, 7, 12, 15, 2, 20, 14, 2, 4, 11, 7, 5, 3, 6, 1, 6, 2, 15, 6, 2, 1, 1, 11, 8, 6, 7, 11, 4, 12, 11, 18, 9, 3, 11, 4, 2, 14, 6, 2, 11, 5, 8, 3, 11, 6, 2, 17, 9, 16, 5, 2, 7, 11, 5, 6, 1, 7, 3, 19, 4, 2, 3, 10, 8, 5, 13, 15, 5, 7, 1, 4, 4, 11, 5, 1, 4, 6, 12, 5, 7, 7, 1, 6, 17, 2, 13, 5, 6, 1, 2, 4, 11, 4, 9, 11, 1, 2, 3, 15, 15, 12, 12, 8, 2, 6, 20, 6, 9, 1, 2, 1, 8, 14, 14, 5, 3, 15, 6, 11, 11, 14, 3, 3, 14, 1, 4, 13, 10, 6, 16], \"Freq\": [0.99930442858783, 0.9920204154771965, 0.9990352267661947, 0.99873367773339, 0.9993743207821354, 0.9979486469694099, 0.9991472185122166, 0.9850235503397193, 0.9976048204071766, 0.9939453343425062, 0.9808988577287302, 0.9932950670132563, 0.9992989914394507, 0.9981565994330702, 0.9960415122999906, 0.9544470485690632, 0.04484238867315161, 0.9977398555975334, 0.9926684999973544, 0.9969540857585254, 0.9992644754206923, 0.998972029480293, 0.9747926675357476, 0.024385860017352472, 0.9929749029052675, 0.9976427528855207, 0.9940909687193961, 0.9952012822887847, 0.9995432811091455, 0.9981572365611155, 0.9994439354706686, 0.9898907638718628, 0.9832897306686194, 0.9995869758407188, 0.998917768455996, 0.9975351840151895, 0.9954973237231999, 0.9902658960849978, 0.9983492493876105, 0.9982936016974375, 0.9935536699190409, 0.005960129993515543, 0.9939956349630826, 0.9996381227037309, 0.9849867603320315, 0.9989989278279915, 0.9993397822584812, 0.9997628923947993, 0.9962870184411865, 0.9954345417232815, 0.9932014812109297, 0.9989218117987204, 0.015297902917681615, 0.9845108030243575, 0.9950910784032426, 0.9996915483062235, 0.9981247779621609, 0.9885684490296326, 0.31024850437689994, 0.6873461340062811, 0.9987439172405879, 0.9913526863781543, 0.9771818497661691, 0.23786007926223196, 0.7618676222985776, 0.9923471673496277, 0.9949417905503404, 0.9935337227892156, 0.9982732579151397, 0.8976279540852983, 0.10216903542434289, 0.9868979561987983, 0.9945041597239767, 0.9953403641935987, 0.9958781172093719, 0.9968914936818017, 0.9962985262857218, 0.9972619917720181, 0.9783803325063002, 0.9969769453665778, 0.9941147078828186, 0.9945749371739473, 0.9967966484166798, 0.9960484280957325, 0.9881965788765501, 0.9977720336078513, 0.9975800658679108, 0.9994541124337307, 0.9975046226559542, 0.9981747483413065, 0.9988816217737458, 0.997592738610514, 0.994172614861488, 0.9988805612708382, 0.9849248513619705, 0.9977813686540683, 0.985551251903937, 0.9548902607534759, 0.9984130709447042, 0.9962214909500189, 0.9977757354734758, 0.9988025770299709, 0.9951092349728969, 0.9922176934001884, 0.9979155104867331, 0.9978262921492292, 0.997869771999153, 0.9997496350966119, 0.9916386741823051, 0.9938354089796174, 0.89575598059865, 0.9967280875700452, 0.9989990962586875, 0.9990972242583245, 0.9993413188358181, 0.9935157843247946, 0.9976997510276432, 0.9972344202139706, 0.998673175890501, 0.9989182409852041, 0.9926949473779613, 0.9828199808534862, 0.9965898313362233, 0.3570892447073346, 0.6423442098671296, 0.9983118130231984, 0.995897169618448, 0.9967997060678487, 0.9886105712172065, 0.9942347057571329, 0.9981886523153983, 0.998654166808959, 0.9993790031600963, 0.9978384812661705, 0.9991558572219141, 0.9996372585160725, 0.9840547263912854, 0.9994541255223418, 0.9464067547038159, 0.9975824311185799, 0.9955590961178892, 0.9971641823641694, 0.9898971036584165, 0.9977135304019105, 0.3393696532545315, 0.6589702004942359, 0.9786778624906973, 0.978459133975438, 0.9998455019187801, 0.9993116532262794, 0.9887143589396999, 0.9997540913884757, 0.14460948825640607, 0.8552103597677831, 0.9998116075241141, 0.4154618532538722, 0.9971492802727154, 0.3768762461958362, 0.6227023431463021, 0.9987954986369807, 0.9547700221093888, 0.9993963643589473, 0.9979155361434636, 0.9984866265896694, 0.9738438665790388, 0.9990911337479753, 0.998348934047225, 0.9898539191965005, 0.9882456304111571, 0.9985069443716613, 0.9989232741692553, 0.9811721289858949, 0.08779793994891398, 0.9119344038892724, 0.999410728734895, 0.9985849700766279, 0.998722110434121, 0.9993652922154778, 0.9794674860604938, 0.992451757104749, 0.99333029317813, 0.999513875386238, 0.9994711490176853, 0.879515298011767, 0.9951265294139007, 0.9952839685517603, 0.9992611996176132, 0.9996424393381047, 0.9994747834319208, 0.9970819917513003, 0.037651439386590824, 0.9618231334210928, 0.9991962478603809, 0.9982451803526916, 0.9966413835115135, 0.9989996876650618, 0.9989403588461571, 0.9989917540926838, 0.9979800228916137, 0.009841018690540845, 0.9898907035779321, 0.9923629633323315, 0.9983748044849601, 0.9985622518585181, 0.9991253866089108, 0.9983949709109834, 0.9500683826731027, 0.048240425636433985, 0.94036377280835, 0.999366409289211, 0.9995148349010068, 0.9850732592939953, 0.9987245112776135, 0.9997380820007912, 0.9970433842788146, 0.9509230632757986, 0.9997318269781088, 0.9956032132907237, 0.9974854440781917, 0.9981957530095318, 0.9993049423500705, 0.9997200016484796, 0.9944583760959527, 0.9933563967851954, 0.9964433357860074, 0.9986474396542976, 0.9985421126648709, 0.9933603672261084, 0.9982894710958022, 0.0013780371322560866, 0.9931061950282686, 0.9326592218959971, 0.03978657068475999, 0.027385561640159473, 0.9976199240100563, 0.9976647014193524, 0.9962257392246121, 0.9985808717717825, 0.9913965439525144, 0.9941650730624989, 0.9958962436645091, 0.9990365387080588, 0.9980953619391807, 0.9971226149957599, 0.9994608991613723, 0.9961757769544317, 0.9954675457114748, 0.9656917938838754, 0.9996635040968707, 0.9955057674772574, 0.9997059735385672, 0.8358515117764578, 0.9881034963892366, 0.5627698595545155, 0.10551934866647165, 0.33083419317193763, 0.0008276027346389934, 0.9918003622775283, 0.9981302002679983, 0.9980762641930228, 0.9983955267194364, 0.9874378335065525, 0.9964983719313897, 0.993225264297397, 0.9958738174814705, 0.9998440922692792, 0.989609975259956, 0.9972026514638337, 0.9538838820669323, 0.996800273792412, 0.9972085220808486, 0.9970944459196294, 0.960479590680813, 0.9957024706923564, 0.9966830843198422, 0.03366662360995229, 0.9656199771763588, 0.9941000665094963, 0.9987028720267483, 0.9988560637352282, 0.9990540321571522, 0.9954916659516749, 0.9984238743215408, 0.9951635553449225, 0.9869942965376183, 0.9969501695099574, 0.9932323517364315, 0.9991080737098597, 0.98676935534068, 0.9984717090235482, 0.9695355001543651, 0.9992708033845317, 0.9954738914299632, 0.9984103512880719, 0.9734915919164807, 0.9954212904932807, 0.9973468947713078, 0.9986545536677891, 0.9949925840185683, 0.9996494061843054, 0.9987566305146465, 0.9992408373266841, 0.9997838247902132, 0.9966682139281972, 0.9974734649425614, 0.998903979202787, 0.9987835007048217, 0.9996565721073037, 0.9956343017949815, 0.9972952112262777, 0.9996272610471786, 0.9993968196958092, 0.9956178291409834, 0.9992435761771538, 0.9990274845387341, 0.987065741930208, 0.9997283246249731, 0.993084074335858, 0.9996249647356646, 0.9911653403470199, 0.998156218049926, 0.9958307418851994, 0.9676865746148632, 0.05560680292797054, 0.9437268839775571, 0.9609216691534216, 0.9854863004117828, 0.9973852914268387, 0.9990132739020077, 0.9969154264011231, 0.9996031337268567, 0.9992318375541993, 0.9997803196626512, 0.9918298238945908, 0.9972406826282337, 0.9991596622938839, 0.9994958193057749, 0.9991485424873203, 0.9950341043253376, 0.9973726363398718, 0.9927301469331178, 0.983167204307087, 0.9791413251165935, 0.9994715472300335, 0.9982640917386879, 0.9718403900123723, 0.9994592724477838, 0.9822703341610647, 0.9990859939122565, 0.9974260590954935, 0.9987725922304695, 0.9994401812416535, 0.9881414148673311, 0.9983220011662848, 0.9996543675120912, 0.994490101882877, 0.999297232271421, 0.994506850918734, 0.9945348493361612, 0.9985316419134178, 0.99867271368701, 0.9980676399654473, 0.9976844628056759, 0.9964595470180767, 0.9952129792929123, 0.9996630134696619, 0.9967478991660406, 0.9961497068955663, 0.9604860595287117, 0.9974840938154172, 0.995290771946079, 0.024052669859107995, 0.971727862307963, 0.9991795535666241, 0.9957240406396932, 0.9992100619306119, 0.9997345319835065, 0.999583523211013, 0.9847925752384946, 0.9967427937881571, 0.9990522392469591, 0.9964508465464733, 0.9745659500524835, 0.9975134721289088, 0.9989530275145769, 0.9293623592347081, 0.06993754367612855, 0.9989761886813766, 0.9982627705527751, 0.9975131387574027, 0.9993344531580973, 0.9995162163194768, 0.994687004517354, 0.997888477473156, 0.9971650349964436, 0.9986975404055415, 0.999388067755916, 0.9994345759973211, 0.9953335035509062, 0.9861501385703818, 0.9986428364123312, 0.9842468334009015, 0.9993000038356354, 0.9983886538595439, 0.045511439010338106, 0.954262575093388, 0.9972396859325365, 0.9902930547883845, 0.9992406287294838, 0.9941313391661124, 0.8586260940293281, 0.04657188505162592, 0.9355682451612657, 0.017761339753613433, 0.9914825971862744, 0.9912972423070604, 0.9977745293707159, 0.9962506515140602, 0.9892776803888298, 0.9974031707276662, 0.99843706487042, 0.9730556524270314, 0.9992436638482366, 0.993965952620674, 0.9998002959675911, 0.9987960560962567, 0.9993771238104873, 0.9936174022561819, 0.9962477410121314, 0.9969826359945132, 0.9989747435061067, 0.9998410714339557, 0.9653576611105253, 0.9918978997681934, 0.9839651465940384, 0.9980504832221999, 0.9959129474434661, 0.9952877467739412, 0.9998539582268307, 0.9931229730377048, 0.9994893294427483, 0.0002887445701120174, 0.9982791263664974, 0.9941480325831339, 0.9990703985246495, 0.9947632835971519], \"Term\": [\"able\", \"actual\", \"actually\", \"add\", \"adjust\", \"adjustable\", \"adjustment\", \"admit\", \"advertise\", \"affix\", \"affordable\", \"allen\", \"allow\", \"almost\", \"already\", \"also\", \"also\", \"although\", \"amazing\", \"amount\", \"anchor\", \"angle\", \"another\", \"another\", \"anywhere\", \"apart\", \"appear\", \"application\", \"arm\", \"assemble\", \"attach\", \"attache\", \"attached\", \"back\", \"bad\", \"basic\", \"beat\", \"become\", \"bedroom\", \"behind\", \"bit\", \"bit\", \"block\", \"bolt\", \"bother\", \"bottom\", \"box\", \"bracket\", \"brand\", \"brick\", \"buck\", \"build\", \"buy\", \"buy\", \"cabinet\", \"cable\", \"call\", \"care\", \"case\", \"case\", \"center\", \"chance\", \"charm\", \"cheap\", \"cheap\", \"choice\", \"choose\", \"clip\", \"close\", \"come\", \"come\", \"comfortable\", \"compatible\", \"complain\", \"complaint\", \"completely\", \"computer\", \"concrete\", \"condition\", \"connect\", \"connection\", \"connector\", \"consider\", \"construction\", \"convenient\", \"cord\", \"corner\", \"could\", \"couple\", \"day\", \"definitely\", \"degree\", \"describe\", \"design\", \"desire\", \"desk\", \"detail\", \"detailed\", \"device\", \"directly\", \"display\", \"drill\", \"drive\", \"driver\", \"drywall\", \"durable\", \"duty\", \"easy\", \"edge\", \"effort\", \"effortlessly\", \"else\", \"end\", \"enough\", \"even\", \"exact\", \"exactly\", \"excellent\", \"expensive\", \"extend\", \"extended\", \"extender\", \"extension\", \"extra\", \"extra\", \"extremely\", \"fact\", \"fairly\", \"family\", \"fantastic\", \"feature\", \"feel\", \"find\", \"finder\", \"first\", \"fit\", \"fitting\", \"flat\", \"flatpanel\", \"follow\", \"friend\", \"front\", \"ft\", \"full\", \"fully\", \"fully\", \"functional\", \"general\", \"get\", \"give\", \"glad\", \"go\", \"good\", \"good\", \"great\", \"guage\", \"handle\", \"hang\", \"hang\", \"happy\", \"hardly\", \"hardware\", \"hdmi\", \"hdtv\", \"hdtvs\", \"heavy\", \"help\", \"helper\", \"hesitate\", \"hide\", \"highly\", \"hint\", \"hold\", \"hold\", \"hole\", \"home\", \"hook\", \"however\", \"hz\", \"image\", \"imagine\", \"inch\", \"include\", \"industry\", \"initially\", \"insert\", \"instal\", \"install\", \"installation\", \"instead\", \"instruction\", \"instruction\", \"issue\", \"item\", \"joint\", \"keep\", \"kit\", \"know\", \"lag\", \"large\", \"large\", \"later\", \"lb\", \"lcd\", \"lead\", \"least\", \"leave\", \"leave\", \"leftover\", \"less\", \"level\", \"lie\", \"light\", \"like\", \"line\", \"link\", \"little\", \"living\", \"local\", \"location\", \"long\", \"look\", \"loose\", \"loosen\", \"lose\", \"love\", \"low\", \"luckily\", \"make\", \"make\", \"manual\", \"may\", \"may\", \"may\", \"mean\", \"measure\", \"mention\", \"metal\", \"min\", \"mind\", \"mine\", \"minute\", \"mm\", \"model\", \"monitor\", \"month\", \"motion\", \"mounting\", \"move\", \"movement\", \"much\", \"muscle\", \"nail\", \"need\", \"need\", \"need\", \"need\", \"news\", \"note\", \"nothing\", \"nut\", \"nuts\", \"office\", \"often\", \"ok\", \"one\", \"online\", \"onto\", \"opportunity\", \"otherwise\", \"outside\", \"overall\", \"overly\", \"panasonic\", \"panel\", \"part\", \"part\", \"pattern\", \"pay\", \"people\", \"perfect\", \"perform\", \"person\", \"personally\", \"philip\", \"phillip\", \"pilot\", \"place\", \"planning\", \"plasma\", \"plaster\", \"plate\", \"please\", \"plug\", \"poorly\", \"possible\", \"pound\", \"power\", \"prefer\", \"price\", \"probably\", \"problem\", \"product\", \"profile\", \"properly\", \"provide\", \"pull\", \"purchase\", \"purpose\", \"push\", \"put\", \"quality\", \"quick\", \"quite\", \"range\", \"ratchet\", \"really\", \"recently\", \"recommend\", \"relatively\", \"remove\", \"replace\", \"reservation\", \"right\", \"right\", \"rigid\", \"risk\", \"sag\", \"samsung\", \"save\", \"say\", \"screen\", \"screw\", \"search\", \"second\", \"secure\", \"see\", \"seem\", \"seller\", \"send\", \"separate\", \"series\", \"serve\", \"set\", \"setup\", \"shoot\", \"side\", \"sideways\", \"simple\", \"simply\", \"sit\", \"size\", \"skeptical\", \"slide\", \"small\", \"smooth\", \"solid\", \"somewhat\", \"son\", \"sony\", \"space\", \"spacer\", \"spend\", \"spot\", \"stable\", \"stand\", \"standard\", \"state\", \"static\", \"stay\", \"step\", \"stiff\", \"stiff\", \"still\", \"straight\", \"strong\", \"stud\", \"sturdy\", \"suggestion\", \"super\", \"support\", \"suppose\", \"surprisingly\", \"swing\", \"swivel\", \"take\", \"take\", \"television\", \"tell\", \"test\", \"thing\", \"think\", \"thought\", \"three\", \"tight\", \"tighten\", \"tilt\", \"time\", \"tip\", \"ton\", \"tool\", \"trick\", \"try\", \"turn\", \"two\", \"two\", \"type\", \"u\", \"unit\", \"upgrade\", \"ur\", \"use\", \"use\", \"use\", \"user\", \"usually\", \"value\", \"variety\", \"version\", \"vertical\", \"vesa\", \"videosecu\", \"view\", \"visible\", \"want\", \"washer\", \"way\", \"weak\", \"week\", \"weigh\", \"weight\", \"well\", \"wherever\", \"wife\", \"willing\", \"wish\", \"within\", \"word\", \"work\", \"worried\", \"would\", \"would\", \"wrench\", \"write\", \"x\", \"yet\"]}, \"R\": 30, \"lambda.step\": 0.01, \"plot.opts\": {\"xlab\": \"PC1\", \"ylab\": \"PC2\"}, \"topic.order\": [8, 2, 4, 3, 10, 5, 18, 1, 14, 6, 7, 11, 12, 16, 9, 20, 17, 13, 15, 19]};\n",
       "\n",
       "function LDAvis_load_lib(url, callback){\n",
       "  var s = document.createElement('script');\n",
       "  s.src = url;\n",
       "  s.async = true;\n",
       "  s.onreadystatechange = s.onload = callback;\n",
       "  s.onerror = function(){console.warn(\"failed to load library \" + url);};\n",
       "  document.getElementsByTagName(\"head\")[0].appendChild(s);\n",
       "}\n",
       "\n",
       "if(typeof(LDAvis) !== \"undefined\"){\n",
       "   // already loaded: just create the visualization\n",
       "   !function(LDAvis){\n",
       "       new LDAvis(\"#\" + \"ldavis_el30641405344444311689880199436\", ldavis_el30641405344444311689880199436_data);\n",
       "   }(LDAvis);\n",
       "}else if(typeof define === \"function\" && define.amd){\n",
       "   // require.js is available: use it to load d3/LDAvis\n",
       "   require.config({paths: {d3: \"https://d3js.org/d3.v5\"}});\n",
       "   require([\"d3\"], function(d3){\n",
       "      window.d3 = d3;\n",
       "      LDAvis_load_lib(\"https://cdn.jsdelivr.net/gh/bmabey/pyLDAvis@3.3.1/pyLDAvis/js/ldavis.v3.0.0.js\", function(){\n",
       "        new LDAvis(\"#\" + \"ldavis_el30641405344444311689880199436\", ldavis_el30641405344444311689880199436_data);\n",
       "      });\n",
       "    });\n",
       "}else{\n",
       "    // require.js not available: dynamically load d3 & LDAvis\n",
       "    LDAvis_load_lib(\"https://d3js.org/d3.v5.js\", function(){\n",
       "         LDAvis_load_lib(\"https://cdn.jsdelivr.net/gh/bmabey/pyLDAvis@3.3.1/pyLDAvis/js/ldavis.v3.0.0.js\", function(){\n",
       "                 new LDAvis(\"#\" + \"ldavis_el30641405344444311689880199436\", ldavis_el30641405344444311689880199436_data);\n",
       "            })\n",
       "         });\n",
       "}\n",
       "</script>"
      ],
      "text/plain": [
       "PreparedData(topic_coordinates=              x         y  topics  cluster       Freq\n",
       "topic                                                \n",
       "7      0.279489 -0.172574       1        1  36.701142\n",
       "1      0.238962 -0.093083       2        1  14.696471\n",
       "3      0.246156 -0.142399       3        1  14.557018\n",
       "2      0.148505  0.208290       4        1   9.420748\n",
       "9      0.075225  0.258900       5        1   5.290339\n",
       "4      0.041025  0.182488       6        1   3.707109\n",
       "17     0.031519  0.134618       7        1   2.884288\n",
       "0     -0.021925  0.041901       8        1   1.760366\n",
       "13    -0.039431  0.015260       9        1   1.240405\n",
       "5     -0.066325 -0.018285      10        1   1.184967\n",
       "6     -0.069355 -0.021846      11        1   1.132175\n",
       "10    -0.066792 -0.018718      12        1   1.091288\n",
       "11    -0.088418 -0.040302      13        1   1.071458\n",
       "15    -0.075197 -0.027775      14        1   1.048505\n",
       "8     -0.093458 -0.044827      15        1   0.983345\n",
       "19    -0.062080 -0.013519      16        1   0.944777\n",
       "16    -0.104439 -0.053277      17        1   0.803319\n",
       "12    -0.102835 -0.052102      18        1   0.696987\n",
       "14    -0.131197 -0.069665      19        1   0.467773\n",
       "18    -0.139431 -0.073085      20        1   0.317520, topic_info=            Term         Freq        Total Category  logprob  loglift\n",
       "125          use  9683.000000  9683.000000  Default  30.0000  30.0000\n",
       "176         inch  3065.000000  3065.000000  Default  29.0000  29.0000\n",
       "31          work  7205.000000  7205.000000  Default  28.0000  28.0000\n",
       "29          easy  6324.000000  6324.000000  Default  27.0000  27.0000\n",
       "39          hole  2554.000000  2554.000000  Default  26.0000  26.0000\n",
       "...          ...          ...          ...      ...      ...      ...\n",
       "2187         usb     0.043285     1.184471  Topic20 -10.5265   2.4431\n",
       "1240  experience     0.043284     1.184465  Topic20 -10.5265   2.4431\n",
       "941          run     0.043287     1.184640  Topic20 -10.5264   2.4430\n",
       "2983     network     0.043283     1.184464  Topic20 -10.5265   2.4431\n",
       "1307        port     0.043283     1.184424  Topic20 -10.5265   2.4431\n",
       "\n",
       "[849 rows x 6 columns], token_table=      Topic      Freq      Term\n",
       "term                           \n",
       "127       1  0.999304      able\n",
       "644       7  0.992020    actual\n",
       "426       2  0.999035  actually\n",
       "185       3  0.998734       add\n",
       "190       7  0.999374    adjust\n",
       "...     ...       ...       ...\n",
       "149       4  0.000289     would\n",
       "68       13  0.998279    wrench\n",
       "742      10  0.994148     write\n",
       "184       6  0.999070         x\n",
       "703      16  0.994763       yet\n",
       "\n",
       "[446 rows x 3 columns], R=30, lambda_step=0.01, plot_opts={'xlab': 'PC1', 'ylab': 'PC2'}, topic_order=[8, 2, 4, 3, 10, 5, 18, 1, 14, 6, 7, 11, 12, 16, 9, 20, 17, 13, 15, 19])"
      ]
     },
     "execution_count": 34,
     "metadata": {},
     "output_type": "execute_result"
    }
   ],
   "source": [
    "# Visualize the topics\n",
    "pyLDAvis.enable_notebook()\n",
    "vis = pyLDAvis.gensim_models.prepare(lda_model, corpus, dictionary)\n",
    "vis\n"
   ]
  },
  {
   "cell_type": "markdown",
   "metadata": {
    "id": "LRLChWG6zMQe"
   },
   "source": [
    "Interpretation: \n",
    "Each bubble on the left-hand side plot represents a topic. The larger the bubble, the more prevalent is that topic.\n",
    "\n",
    "A good topic model will have fairly big, non-overlapping bubbles scattered throughout the chart instead of being clustered in one quadrant.\n",
    "\n",
    "A model with too many topics, will typically have many overlaps, small sized bubbles clustered in one region of the chart.\n",
    "\n",
    "Alright, if we move the cursor over one of the bubbles, the words and bars on the right-hand side will update. These words are the salient keywords that form the selected topic."
   ]
  },
  {
   "cell_type": "markdown",
   "metadata": {
    "id": "26r4FWHI2GE1"
   },
   "source": [
    " Building LDA Mallet Model"
   ]
  },
  {
   "cell_type": "markdown",
   "metadata": {
    "id": "OTUX6XtM17WO"
   },
   "source": [
    "Upnext, we will improve upon this model by using Mallet’s version of LDA algorithm and then we will focus on how to arrive at the optimal number of topics given any large corpus of text."
   ]
  },
  {
   "cell_type": "code",
   "execution_count": 36,
   "metadata": {},
   "outputs": [
    {
     "name": "stdout",
     "output_type": "stream",
     "text": [
      "Collecting gensim==3.8.3\n",
      "  Downloading gensim-3.8.3.tar.gz (23.4 MB)\n",
      "\u001b[K     |████████████████████████████████| 23.4 MB 70.2 MB/s eta 0:00:01\n",
      "\u001b[?25hRequirement already satisfied: numpy>=1.11.3 in /Users/swapnilkailassethi/opt/anaconda3/lib/python3.9/site-packages (from gensim==3.8.3) (1.20.3)\n",
      "Requirement already satisfied: scipy>=0.18.1 in /Users/swapnilkailassethi/opt/anaconda3/lib/python3.9/site-packages (from gensim==3.8.3) (1.7.1)\n",
      "Requirement already satisfied: six>=1.5.0 in /Users/swapnilkailassethi/opt/anaconda3/lib/python3.9/site-packages (from gensim==3.8.3) (1.16.0)\n",
      "Requirement already satisfied: smart_open>=1.8.1 in /Users/swapnilkailassethi/opt/anaconda3/lib/python3.9/site-packages (from gensim==3.8.3) (5.2.1)\n",
      "Building wheels for collected packages: gensim\n",
      "  Building wheel for gensim (setup.py) ... \u001b[?25ldone\n",
      "\u001b[?25h  Created wheel for gensim: filename=gensim-3.8.3-cp39-cp39-macosx_10_9_x86_64.whl size=24175443 sha256=1f5f866c11c0e573c7b21addd02b7665390d75a43f490ec54b9e15a3608ad0ef\n",
      "  Stored in directory: /Users/swapnilkailassethi/Library/Caches/pip/wheels/ca/5d/af/618594ec2f28608c1d6ee7d2b7e95a3e9b06551e3b80a491d6\n",
      "Successfully built gensim\n",
      "Installing collected packages: gensim\n",
      "  Attempting uninstall: gensim\n",
      "    Found existing installation: gensim 4.1.2\n",
      "    Uninstalling gensim-4.1.2:\n",
      "      Successfully uninstalled gensim-4.1.2\n",
      "Successfully installed gensim-3.8.3\n"
     ]
    }
   ],
   "source": []
  },
  {
   "cell_type": "code",
   "execution_count": 37,
   "metadata": {},
   "outputs": [
    {
     "ename": "ImportError",
     "evalue": "cannot import name 'Vocab' from 'gensim.models.word2vec' (/Users/swapnilkailassethi/opt/anaconda3/lib/python3.9/site-packages/gensim/models/word2vec.py)",
     "output_type": "error",
     "traceback": [
      "\u001b[0;31m---------------------------------------------------------------------------\u001b[0m",
      "\u001b[0;31mImportError\u001b[0m                               Traceback (most recent call last)",
      "\u001b[0;32m/var/folders/0b/x4rmjkks1_v_91dwrqk5151r0000gn/T/ipykernel_3064/2549065522.py\u001b[0m in \u001b[0;36m<module>\u001b[0;34m\u001b[0m\n\u001b[0;32m----> 1\u001b[0;31m \u001b[0;32mfrom\u001b[0m \u001b[0mgensim\u001b[0m\u001b[0;34m.\u001b[0m\u001b[0mmodels\u001b[0m\u001b[0;34m.\u001b[0m\u001b[0mwrappers\u001b[0m \u001b[0;32mimport\u001b[0m \u001b[0mLdaMallet\u001b[0m\u001b[0;34m\u001b[0m\u001b[0;34m\u001b[0m\u001b[0m\n\u001b[0m",
      "\u001b[0;32m~/opt/anaconda3/lib/python3.9/site-packages/gensim/models/wrappers/__init__.py\u001b[0m in \u001b[0;36m<module>\u001b[0;34m\u001b[0m\n\u001b[1;32m      8\u001b[0m \u001b[0;32mfrom\u001b[0m \u001b[0;34m.\u001b[0m\u001b[0mfasttext\u001b[0m \u001b[0;32mimport\u001b[0m \u001b[0mFastText\u001b[0m  \u001b[0;31m# noqa:F401\u001b[0m\u001b[0;34m\u001b[0m\u001b[0;34m\u001b[0m\u001b[0m\n\u001b[1;32m      9\u001b[0m \u001b[0;32mfrom\u001b[0m \u001b[0;34m.\u001b[0m\u001b[0mwordrank\u001b[0m \u001b[0;32mimport\u001b[0m \u001b[0mWordrank\u001b[0m  \u001b[0;31m# noqa:F401\u001b[0m\u001b[0;34m\u001b[0m\u001b[0;34m\u001b[0m\u001b[0m\n\u001b[0;32m---> 10\u001b[0;31m \u001b[0;32mfrom\u001b[0m \u001b[0;34m.\u001b[0m\u001b[0mvarembed\u001b[0m \u001b[0;32mimport\u001b[0m \u001b[0mVarEmbed\u001b[0m  \u001b[0;31m# noqa:F401\u001b[0m\u001b[0;34m\u001b[0m\u001b[0;34m\u001b[0m\u001b[0m\n\u001b[0m",
      "\u001b[0;32m~/opt/anaconda3/lib/python3.9/site-packages/gensim/models/wrappers/varembed.py\u001b[0m in \u001b[0;36m<module>\u001b[0;34m\u001b[0m\n\u001b[1;32m     20\u001b[0m \u001b[0;32mfrom\u001b[0m \u001b[0mgensim\u001b[0m \u001b[0;32mimport\u001b[0m \u001b[0mutils\u001b[0m\u001b[0;34m\u001b[0m\u001b[0;34m\u001b[0m\u001b[0m\n\u001b[1;32m     21\u001b[0m \u001b[0;32mfrom\u001b[0m \u001b[0mgensim\u001b[0m\u001b[0;34m.\u001b[0m\u001b[0mmodels\u001b[0m\u001b[0;34m.\u001b[0m\u001b[0mkeyedvectors\u001b[0m \u001b[0;32mimport\u001b[0m \u001b[0mKeyedVectors\u001b[0m\u001b[0;34m\u001b[0m\u001b[0;34m\u001b[0m\u001b[0m\n\u001b[0;32m---> 22\u001b[0;31m \u001b[0;32mfrom\u001b[0m \u001b[0mgensim\u001b[0m\u001b[0;34m.\u001b[0m\u001b[0mmodels\u001b[0m\u001b[0;34m.\u001b[0m\u001b[0mword2vec\u001b[0m \u001b[0;32mimport\u001b[0m \u001b[0mVocab\u001b[0m\u001b[0;34m\u001b[0m\u001b[0;34m\u001b[0m\u001b[0m\n\u001b[0m\u001b[1;32m     23\u001b[0m \u001b[0;34m\u001b[0m\u001b[0m\n\u001b[1;32m     24\u001b[0m \u001b[0mlogger\u001b[0m \u001b[0;34m=\u001b[0m \u001b[0mlogging\u001b[0m\u001b[0;34m.\u001b[0m\u001b[0mgetLogger\u001b[0m\u001b[0;34m(\u001b[0m\u001b[0m__name__\u001b[0m\u001b[0;34m)\u001b[0m\u001b[0;34m\u001b[0m\u001b[0;34m\u001b[0m\u001b[0m\n",
      "\u001b[0;31mImportError\u001b[0m: cannot import name 'Vocab' from 'gensim.models.word2vec' (/Users/swapnilkailassethi/opt/anaconda3/lib/python3.9/site-packages/gensim/models/word2vec.py)"
     ]
    }
   ],
   "source": []
  },
  {
   "cell_type": "code",
   "execution_count": 38,
   "metadata": {
    "colab": {
     "base_uri": "https://localhost:8080/",
     "height": 358
    },
    "id": "ZozSapbvyuAi",
    "outputId": "409312d2-6bac-44ef-c1e5-eb46068b1f2d"
   },
   "outputs": [
    {
     "ename": "AttributeError",
     "evalue": "module 'gensim.models' has no attribute 'wrappers'",
     "output_type": "error",
     "traceback": [
      "\u001b[0;31m---------------------------------------------------------------------------\u001b[0m",
      "\u001b[0;31mAttributeError\u001b[0m                            Traceback (most recent call last)",
      "\u001b[0;32m/var/folders/0b/x4rmjkks1_v_91dwrqk5151r0000gn/T/ipykernel_3064/118388515.py\u001b[0m in \u001b[0;36m<module>\u001b[0;34m\u001b[0m\n\u001b[1;32m      1\u001b[0m \u001b[0;31m# Download File: http://mallet.cs.umass.edu/dist/mallet-2.0.8.zip\u001b[0m\u001b[0;34m\u001b[0m\u001b[0;34m\u001b[0m\u001b[0m\n\u001b[1;32m      2\u001b[0m \u001b[0mmallet_path\u001b[0m \u001b[0;34m=\u001b[0m \u001b[0;34m'mallet-2.0.8/bin/mallet'\u001b[0m\u001b[0;34m\u001b[0m\u001b[0;34m\u001b[0m\u001b[0m\n\u001b[0;32m----> 3\u001b[0;31m \u001b[0mldamallet\u001b[0m \u001b[0;34m=\u001b[0m \u001b[0mgensim\u001b[0m\u001b[0;34m.\u001b[0m\u001b[0mmodels\u001b[0m\u001b[0;34m.\u001b[0m\u001b[0mwrappers\u001b[0m\u001b[0;34m.\u001b[0m\u001b[0mLdaMallet\u001b[0m\u001b[0;34m(\u001b[0m\u001b[0mmallet_path\u001b[0m\u001b[0;34m,\u001b[0m \u001b[0mcorpus\u001b[0m\u001b[0;34m=\u001b[0m\u001b[0mcorpus\u001b[0m\u001b[0;34m,\u001b[0m \u001b[0mnum_topics\u001b[0m\u001b[0;34m=\u001b[0m\u001b[0;36m20\u001b[0m\u001b[0;34m,\u001b[0m \u001b[0mid2word\u001b[0m\u001b[0;34m=\u001b[0m\u001b[0mdictionary\u001b[0m\u001b[0;34m)\u001b[0m\u001b[0;34m\u001b[0m\u001b[0;34m\u001b[0m\u001b[0m\n\u001b[0m",
      "\u001b[0;31mAttributeError\u001b[0m: module 'gensim.models' has no attribute 'wrappers'"
     ]
    }
   ],
   "source": []
  },
  {
   "cell_type": "code",
   "execution_count": null,
   "metadata": {},
   "outputs": [],
   "source": []
  },
  {
   "cell_type": "code",
   "execution_count": null,
   "metadata": {},
   "outputs": [],
   "source": []
  }
 ],
 "metadata": {
  "colab": {
   "name": "LDA- Topic Modeling.ipynb",
   "provenance": []
  },
  "kernelspec": {
   "display_name": "Python 3 (ipykernel)",
   "language": "python",
   "name": "python3"
  },
  "language_info": {
   "codemirror_mode": {
    "name": "ipython",
    "version": 3
   },
   "file_extension": ".py",
   "mimetype": "text/x-python",
   "name": "python",
   "nbconvert_exporter": "python",
   "pygments_lexer": "ipython3",
   "version": "3.9.7"
  }
 },
 "nbformat": 4,
 "nbformat_minor": 1
}
